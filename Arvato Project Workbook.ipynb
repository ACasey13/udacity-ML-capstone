{
 "cells": [
  {
   "cell_type": "markdown",
   "metadata": {},
   "source": [
    "# Capstone Project: Create a Customer Segmentation Report for Arvato Financial Services\n",
    "\n",
    "In this project, you will analyze demographics data for customers of a mail-order sales company in Germany, comparing it against demographics information for the general population. You'll use unsupervised learning techniques to perform customer segmentation, identifying the parts of the population that best describe the core customer base of the company. Then, you'll apply what you've learned on a third dataset with demographics information for targets of a marketing campaign for the company, and use a model to predict which individuals are most likely to convert into becoming customers for the company. The data that you will use has been provided by our partners at Bertelsmann Arvato Analytics, and represents a real-life data science task.\n",
    "\n",
    "If you completed the first term of this program, you will be familiar with the first part of this project, from the unsupervised learning project. The versions of those two datasets used in this project will include many more features and has not been pre-cleaned. You are also free to choose whatever approach you'd like to analyzing the data rather than follow pre-determined steps. In your work on this project, make sure that you carefully document your steps and decisions, since your main deliverable for this project will be a blog post reporting your findings."
   ]
  },
  {
   "cell_type": "code",
   "execution_count": 1,
   "metadata": {},
   "outputs": [],
   "source": [
    "# import libraries here; add more as necessary\n",
    "import numpy as np\n",
    "import pandas as pd\n",
    "import matplotlib.pyplot as plt\n",
    "import seaborn as sns\n",
    "from sklearn.base import BaseEstimator, TransformerMixin\n",
    "from sklearn.preprocessing import Imputer\n",
    "from sklearn.decomposition import PCA\n",
    "from sklearn.manifold import TSNE\n",
    "from sklearn.pipeline import Pipeline\n",
    "\n",
    "# magic word for producing visualizations in notebook\n",
    "%matplotlib inline"
   ]
  },
  {
   "cell_type": "markdown",
   "metadata": {},
   "source": [
    "## Part 0: Get to Know the Data\n",
    "\n",
    "There are four data files associated with this project:\n",
    "\n",
    "- `Udacity_AZDIAS_052018.csv`: Demographics data for the general population of Germany; 891 211 persons (rows) x 366 features (columns).\n",
    "- `Udacity_CUSTOMERS_052018.csv`: Demographics data for customers of a mail-order company; 191 652 persons (rows) x 369 features (columns).\n",
    "- `Udacity_MAILOUT_052018_TRAIN.csv`: Demographics data for individuals who were targets of a marketing campaign; 42 982 persons (rows) x 367 (columns).\n",
    "- `Udacity_MAILOUT_052018_TEST.csv`: Demographics data for individuals who were targets of a marketing campaign; 42 833 persons (rows) x 366 (columns).\n",
    "\n",
    "Each row of the demographics files represents a single person, but also includes information outside of individuals, including information about their household, building, and neighborhood. Use the information from the first two files to figure out how customers (\"CUSTOMERS\") are similar to or differ from the general population at large (\"AZDIAS\"), then use your analysis to make predictions on the other two files (\"MAILOUT\"), predicting which recipients are most likely to become a customer for the mail-order company.\n",
    "\n",
    "The \"CUSTOMERS\" file contains three extra columns ('CUSTOMER_GROUP', 'ONLINE_PURCHASE', and 'PRODUCT_GROUP'), which provide broad information about the customers depicted in the file. The original \"MAILOUT\" file included one additional column, \"RESPONSE\", which indicated whether or not each recipient became a customer of the company. For the \"TRAIN\" subset, this column has been retained, but in the \"TEST\" subset it has been removed; it is against that withheld column that your final predictions will be assessed in the Kaggle competition.\n",
    "\n",
    "Otherwise, all of the remaining columns are the same between the three data files. For more information about the columns depicted in the files, you can refer to two Excel spreadsheets provided in the workspace. [One of them](./DIAS Information Levels - Attributes 2017.xlsx) is a top-level list of attributes and descriptions, organized by informational category. [The other](./DIAS Attributes - Values 2017.xlsx) is a detailed mapping of data values for each feature in alphabetical order.\n",
    "\n",
    "In the below cell, we've provided some initial code to load in the first two datasets. Note for all of the `.csv` data files in this project that they're semicolon (`;`) delimited, so an additional argument in the [`read_csv()`](https://pandas.pydata.org/pandas-docs/stable/generated/pandas.read_csv.html) call has been included to read in the data properly. Also, considering the size of the datasets, it may take some time for them to load completely.\n",
    "\n",
    "You'll notice when the data is loaded in that a warning message will immediately pop up. Before you really start digging into the modeling and analysis, you're going to need to perform some cleaning. Take some time to browse the structure of the data and look over the informational spreadsheets to understand the data values. Make some decisions on which features to keep, which features to drop, and if any revisions need to be made on data formats. It'll be a good idea to create a function with pre-processing steps, since you'll need to clean all of the datasets before you work with them."
   ]
  },
  {
   "cell_type": "code",
   "execution_count": 2,
   "metadata": {},
   "outputs": [
    {
     "name": "stderr",
     "output_type": "stream",
     "text": [
      "/opt/conda/lib/python3.6/site-packages/IPython/core/interactiveshell.py:2785: DtypeWarning: Columns (18,19) have mixed types. Specify dtype option on import or set low_memory=False.\n",
      "  interactivity=interactivity, compiler=compiler, result=result)\n"
     ]
    }
   ],
   "source": [
    "# load in the data\n",
    "azdias = pd.read_csv('../../data/Term2/capstone/arvato_data/Udacity_AZDIAS_052018.csv', sep=';')\n",
    "customers = pd.read_csv('../../data/Term2/capstone/arvato_data/Udacity_CUSTOMERS_052018.csv', sep=';')"
   ]
  },
  {
   "cell_type": "markdown",
   "metadata": {},
   "source": [
    "## Part 1: Customer Segmentation Report\n",
    "\n",
    "The main bulk of your analysis will come in this part of the project. Here, you should use unsupervised learning techniques to describe the relationship between the demographics of the company's existing customers and the general population of Germany. By the end of this part, you should be able to describe parts of the general population that are more likely to be part of the mail-order company's main customer base, and which parts of the general population are less so."
   ]
  },
  {
   "cell_type": "markdown",
   "metadata": {},
   "source": [
    "First, I'll look at the inferred datatypes."
   ]
  },
  {
   "cell_type": "code",
   "execution_count": 3,
   "metadata": {},
   "outputs": [
    {
     "name": "stdout",
     "output_type": "stream",
     "text": [
      "<class 'pandas.core.frame.DataFrame'>\n",
      "RangeIndex: 891221 entries, 0 to 891220\n",
      "Columns: 366 entries, LNR to ALTERSKATEGORIE_GROB\n",
      "dtypes: float64(267), int64(93), object(6)\n",
      "memory usage: 2.4+ GB\n"
     ]
    }
   ],
   "source": [
    "azdias.info()"
   ]
  },
  {
   "cell_type": "code",
   "execution_count": 4,
   "metadata": {},
   "outputs": [
    {
     "name": "stdout",
     "output_type": "stream",
     "text": [
      "<class 'pandas.core.frame.DataFrame'>\n",
      "RangeIndex: 191652 entries, 0 to 191651\n",
      "Columns: 369 entries, LNR to ALTERSKATEGORIE_GROB\n",
      "dtypes: float64(267), int64(94), object(8)\n",
      "memory usage: 539.5+ MB\n"
     ]
    }
   ],
   "source": [
    "customers.info()"
   ]
  },
  {
   "cell_type": "code",
   "execution_count": 5,
   "metadata": {},
   "outputs": [
    {
     "data": {
      "text/plain": [
       "CAMEO_DEU_2015                45\n",
       "CAMEO_DEUG_2015               19\n",
       "CAMEO_INTL_2015               43\n",
       "D19_LETZTER_KAUF_BRANCHE      35\n",
       "EINGEFUEGT_AM               5162\n",
       "OST_WEST_KZ                    2\n",
       "dtype: int64"
      ]
     },
     "execution_count": 5,
     "metadata": {},
     "output_type": "execute_result"
    }
   ],
   "source": [
    "azdias.select_dtypes(include=object).nunique()"
   ]
  },
  {
   "cell_type": "markdown",
   "metadata": {},
   "source": [
    "Ok, let's work on the object data types first. After digging through the descriptions and, where necessary, directly inspecting the column, here are the descriptions and my initial recommended course of action:\n",
    "  - CAMEO_DEU_2015: detailed classification --> convert to categorical\n",
    "  - CAMEO_DEUG_2015: income group --> convert to ordinal (1 is upper class, 9 is urban working class, -1 is unknown)\n",
    "  - CAMEO_INTL_2015: international classification --> not described, contains nans and odd category 'XX', more investigation required\n",
    "  - D19_LETZTER_KAUF_BRANCHE: not described, translation is \"last purchase industry\", looks like it is the titles for the other D19 columns\n",
    "  - EINGEFUEGT_AM: not described, translation is \"inserted on\" --> these are dates, should convert to datetime\n",
    "  - OST_WEST_KZ: flag indicating former east (O) or west (W) germany, unknown is -1. --> convert to categorical\n",
    "  - PRODUCT_GROUP: (only present in CUSTOMER data) not described, contains three groups: FOOD, COSMETIC, COSMETIC AND FOOD --> convert to categorical\n",
    "  - CUSTOMER_GROUP: (only present in CUSTOMER data) not described, contains either MULTI_BUYER or SINGLE_BUYER --> convert to categorical\n",
    "  \n",
    "Now, let's make a little class to convert these data types and structure it for later use in a pipeline. The PRODUCT_GROUP, ONLINE_PURCHASE, and CUSTOMER_GROUP columns will be dropped since these are not available in the population dataset. "
   ]
  },
  {
   "cell_type": "code",
   "execution_count": 6,
   "metadata": {},
   "outputs": [],
   "source": [
    "def object_dtype(df, columns):\n",
    "    for col in columns:\n",
    "        if col in ['CAMEO_DEU_2015', 'CAMEO_INTL_2015', \n",
    "                   'D19_LETZTER_KAUF_BRANCHE', 'OST_WEST_KZ',\n",
    "                   'CAMEO_DEUG_2015']:\n",
    "            df[col] = df[col].astype('category')\n",
    "        if col == 'EINGEFUEGT_AM':\n",
    "            df[col] = pd.to_datetime(df[col], infer_datetime_format=True)\n",
    "        if col in ['PRODUCT_GROUP', 'CUSTOMER_GROUP'] and col in df.columns:\n",
    "            df = df.drop([col], axis=1)\n",
    "        if 'ONLINE_PURCHASE' in df.columns:\n",
    "            df = df.drop(['ONLINE_PURCHASE'], axis=1)\n",
    "    return df\n",
    "        \n",
    "            \n",
    "\n",
    "class ObjectDtype(BaseEstimator, TransformerMixin):\n",
    "    def __init__(self, include='all'):\n",
    "        self.include = include\n",
    "        \n",
    "    def fit(self, X, y=None):\n",
    "        return self\n",
    "    \n",
    "    def transform(self, X):\n",
    "        if self.include == 'all':\n",
    "            columns = ['CAMEO_DEU_2015', 'CAMEO_INTL_2105', \n",
    "                   'D19_LETZTER_KAUF_BRANCHE', 'OST_WEST_KZ',\n",
    "                   'PRODUCT_GROUP', 'CUSTOMER_GROUP', 'EINGEFUEGT_AM',\n",
    "                   'CAMEO_DEUG_2015', 'CAMEO_INTL_2015']\n",
    "        else:\n",
    "            columns = self.include    \n",
    "        return object_dtype(X, columns)\n",
    "            "
   ]
  },
  {
   "cell_type": "markdown",
   "metadata": {},
   "source": [
    "Next, I'll check out the columns with integer datatypes to see if they should be categorical. If there are only a few unique values then it is probably safe (at this point anyway) to assume that the column represents categorical data that has already been encoded. I'll pay more attention to the fields with a large number of unique values."
   ]
  },
  {
   "cell_type": "code",
   "execution_count": 7,
   "metadata": {},
   "outputs": [
    {
     "name": "stdout",
     "output_type": "stream",
     "text": [
      "LNR                      891221\n",
      "GEBURTSJAHR                 117\n",
      "PRAEGENDE_JUGENDJAHRE        16\n",
      "D19_GESAMT_DATUM             10\n",
      "D19_VERSAND_DATUM            10\n",
      "dtype: int64\n",
      "LNR                          191652\n",
      "GEBURTSJAHR                     113\n",
      "PRAEGENDE_JUGENDJAHRE            16\n",
      "D19_GESAMT_DATUM                 10\n",
      "D19_VERSAND_OFFLINE_DATUM        10\n",
      "dtype: int64\n"
     ]
    }
   ],
   "source": [
    "print(azdias.select_dtypes(include=int).nunique().sort_values(ascending=False)[:5])\n",
    "print(customers.select_dtypes(include=int).nunique().sort_values(ascending=False)[:5])"
   ]
  },
  {
   "cell_type": "code",
   "execution_count": 8,
   "metadata": {},
   "outputs": [
    {
     "name": "stdout",
     "output_type": "stream",
     "text": [
      "0    910215\n",
      "1    910220\n",
      "2    910225\n",
      "3    910226\n",
      "4    910241\n",
      "5    910244\n",
      "6    910248\n",
      "7    910261\n",
      "8    645145\n",
      "9    645153\n",
      "Name: LNR, dtype: int64\n",
      "891221\n"
     ]
    }
   ],
   "source": [
    "print(azdias['LNR'].head(10))\n",
    "print(len(azdias['LNR']))"
   ]
  },
  {
   "cell_type": "markdown",
   "metadata": {},
   "source": [
    "LNR is not in the desciption file, however, the number of unuique entries is identical to the number of entries so it is likely a customer identification number."
   ]
  },
  {
   "cell_type": "markdown",
   "metadata": {},
   "source": [
    "GEBURTSJAHR is the year of birth. There are quite of few entries with a value of zero. "
   ]
  },
  {
   "cell_type": "code",
   "execution_count": 9,
   "metadata": {},
   "outputs": [
    {
     "name": "stdout",
     "output_type": "stream",
     "text": [
      "0    392318\n",
      "Name: GEBURTSJAHR, dtype: int64\n",
      "0    93024\n",
      "Name: GEBURTSJAHR, dtype: int64\n"
     ]
    }
   ],
   "source": [
    "print(azdias['GEBURTSJAHR'].value_counts().sort_values(ascending=False)[[0]])\n",
    "print(customers['GEBURTSJAHR'].value_counts().sort_values(ascending=False)[[0]])"
   ]
  },
  {
   "cell_type": "markdown",
   "metadata": {},
   "source": [
    "As seen above, there are 93024 enties in the customer data without a birth year. It will probably be a good idea to keep these either as zero or use and imputation strategy and append an additional column indicating if the birth year is known. I'll develope another class to drop the LNR column and provide an imputation method for the birth year."
   ]
  },
  {
   "cell_type": "code",
   "execution_count": 10,
   "metadata": {},
   "outputs": [],
   "source": [
    "class DropAndImputeBirthYear(BaseEstimator, TransformerMixin):\n",
    "    def __init__(self, drop=True, impute=None, add_column=True):\n",
    "        self.drop = drop\n",
    "        self.impute = impute\n",
    "        self.add_column = add_column\n",
    "        \n",
    "    def fit(self, X, y=None):\n",
    "        if self.impute is not None:\n",
    "            self.imputer = Imputer(missing_values=0, strategy=self.impute)\n",
    "            self.imputer.fit(X[['GEBURTSJAHR']], y)\n",
    "        return self\n",
    "        \n",
    "    def transform(self, X):\n",
    "        if self.add_column:\n",
    "            X['has_birth_year'] = (X['GEBURTSJAHR'] > 0).astype('category')\n",
    "        if self.impute is not None:\n",
    "            X['GEBURTSJAHR_imputed'] = self.imputer.transform(X[['GEBURTSJAHR']])\n",
    "        if self.drop:\n",
    "            X = X.drop(['LNR', 'GEBURTSJAHR'], axis=1)\n",
    "        return X"
   ]
  },
  {
   "cell_type": "code",
   "execution_count": 11,
   "metadata": {},
   "outputs": [
    {
     "name": "stdout",
     "output_type": "stream",
     "text": [
      "fitting datapipeline to population data...\n",
      "transforming customer data....\n"
     ]
    }
   ],
   "source": [
    "data_pipe = Pipeline([('cat', ObjectDtype()),\n",
    "                      ('drop', DropAndImputeBirthYear(impute='median'))])\n",
    "\n",
    "print('fitting datapipeline to population data...')\n",
    "pop_transformed = data_pipe.fit_transform(azdias)\n",
    "print('transforming customer data....')\n",
    "cust_transformed = data_pipe.transform(customers)"
   ]
  },
  {
   "cell_type": "code",
   "execution_count": 12,
   "metadata": {},
   "outputs": [
    {
     "data": {
      "text/html": [
       "<div>\n",
       "<style scoped>\n",
       "    .dataframe tbody tr th:only-of-type {\n",
       "        vertical-align: middle;\n",
       "    }\n",
       "\n",
       "    .dataframe tbody tr th {\n",
       "        vertical-align: top;\n",
       "    }\n",
       "\n",
       "    .dataframe thead th {\n",
       "        text-align: right;\n",
       "    }\n",
       "</style>\n",
       "<table border=\"1\" class=\"dataframe\">\n",
       "  <thead>\n",
       "    <tr style=\"text-align: right;\">\n",
       "      <th></th>\n",
       "      <th>AGER_TYP</th>\n",
       "      <th>AKT_DAT_KL</th>\n",
       "      <th>ALTER_HH</th>\n",
       "      <th>ALTER_KIND1</th>\n",
       "      <th>ALTER_KIND2</th>\n",
       "      <th>ALTER_KIND3</th>\n",
       "      <th>ALTER_KIND4</th>\n",
       "      <th>ALTERSKATEGORIE_FEIN</th>\n",
       "      <th>ANZ_HAUSHALTE_AKTIV</th>\n",
       "      <th>ANZ_HH_TITEL</th>\n",
       "      <th>...</th>\n",
       "      <th>VK_DISTANZ</th>\n",
       "      <th>VK_ZG11</th>\n",
       "      <th>W_KEIT_KIND_HH</th>\n",
       "      <th>WOHNDAUER_2008</th>\n",
       "      <th>WOHNLAGE</th>\n",
       "      <th>ZABEOTYP</th>\n",
       "      <th>ANREDE_KZ</th>\n",
       "      <th>ALTERSKATEGORIE_GROB</th>\n",
       "      <th>has_birth_year</th>\n",
       "      <th>GEBURTSJAHR_imputed</th>\n",
       "    </tr>\n",
       "  </thead>\n",
       "  <tbody>\n",
       "    <tr>\n",
       "      <th>0</th>\n",
       "      <td>-1</td>\n",
       "      <td>NaN</td>\n",
       "      <td>NaN</td>\n",
       "      <td>NaN</td>\n",
       "      <td>NaN</td>\n",
       "      <td>NaN</td>\n",
       "      <td>NaN</td>\n",
       "      <td>NaN</td>\n",
       "      <td>NaN</td>\n",
       "      <td>NaN</td>\n",
       "      <td>...</td>\n",
       "      <td>NaN</td>\n",
       "      <td>NaN</td>\n",
       "      <td>NaN</td>\n",
       "      <td>NaN</td>\n",
       "      <td>NaN</td>\n",
       "      <td>3</td>\n",
       "      <td>1</td>\n",
       "      <td>2</td>\n",
       "      <td>False</td>\n",
       "      <td>1968.0</td>\n",
       "    </tr>\n",
       "    <tr>\n",
       "      <th>1</th>\n",
       "      <td>-1</td>\n",
       "      <td>9.0</td>\n",
       "      <td>0.0</td>\n",
       "      <td>NaN</td>\n",
       "      <td>NaN</td>\n",
       "      <td>NaN</td>\n",
       "      <td>NaN</td>\n",
       "      <td>21.0</td>\n",
       "      <td>11.0</td>\n",
       "      <td>0.0</td>\n",
       "      <td>...</td>\n",
       "      <td>11.0</td>\n",
       "      <td>10.0</td>\n",
       "      <td>3.0</td>\n",
       "      <td>9.0</td>\n",
       "      <td>4.0</td>\n",
       "      <td>5</td>\n",
       "      <td>2</td>\n",
       "      <td>1</td>\n",
       "      <td>True</td>\n",
       "      <td>1996.0</td>\n",
       "    </tr>\n",
       "    <tr>\n",
       "      <th>2</th>\n",
       "      <td>-1</td>\n",
       "      <td>9.0</td>\n",
       "      <td>17.0</td>\n",
       "      <td>NaN</td>\n",
       "      <td>NaN</td>\n",
       "      <td>NaN</td>\n",
       "      <td>NaN</td>\n",
       "      <td>17.0</td>\n",
       "      <td>10.0</td>\n",
       "      <td>0.0</td>\n",
       "      <td>...</td>\n",
       "      <td>9.0</td>\n",
       "      <td>6.0</td>\n",
       "      <td>3.0</td>\n",
       "      <td>9.0</td>\n",
       "      <td>2.0</td>\n",
       "      <td>5</td>\n",
       "      <td>2</td>\n",
       "      <td>3</td>\n",
       "      <td>True</td>\n",
       "      <td>1979.0</td>\n",
       "    </tr>\n",
       "    <tr>\n",
       "      <th>3</th>\n",
       "      <td>2</td>\n",
       "      <td>1.0</td>\n",
       "      <td>13.0</td>\n",
       "      <td>NaN</td>\n",
       "      <td>NaN</td>\n",
       "      <td>NaN</td>\n",
       "      <td>NaN</td>\n",
       "      <td>13.0</td>\n",
       "      <td>1.0</td>\n",
       "      <td>0.0</td>\n",
       "      <td>...</td>\n",
       "      <td>10.0</td>\n",
       "      <td>11.0</td>\n",
       "      <td>NaN</td>\n",
       "      <td>9.0</td>\n",
       "      <td>7.0</td>\n",
       "      <td>3</td>\n",
       "      <td>2</td>\n",
       "      <td>4</td>\n",
       "      <td>True</td>\n",
       "      <td>1957.0</td>\n",
       "    </tr>\n",
       "    <tr>\n",
       "      <th>4</th>\n",
       "      <td>-1</td>\n",
       "      <td>1.0</td>\n",
       "      <td>20.0</td>\n",
       "      <td>NaN</td>\n",
       "      <td>NaN</td>\n",
       "      <td>NaN</td>\n",
       "      <td>NaN</td>\n",
       "      <td>14.0</td>\n",
       "      <td>3.0</td>\n",
       "      <td>0.0</td>\n",
       "      <td>...</td>\n",
       "      <td>5.0</td>\n",
       "      <td>4.0</td>\n",
       "      <td>2.0</td>\n",
       "      <td>9.0</td>\n",
       "      <td>3.0</td>\n",
       "      <td>4</td>\n",
       "      <td>1</td>\n",
       "      <td>3</td>\n",
       "      <td>True</td>\n",
       "      <td>1963.0</td>\n",
       "    </tr>\n",
       "  </tbody>\n",
       "</table>\n",
       "<p>5 rows × 366 columns</p>\n",
       "</div>"
      ],
      "text/plain": [
       "   AGER_TYP  AKT_DAT_KL  ALTER_HH  ALTER_KIND1  ALTER_KIND2  ALTER_KIND3  \\\n",
       "0        -1         NaN       NaN          NaN          NaN          NaN   \n",
       "1        -1         9.0       0.0          NaN          NaN          NaN   \n",
       "2        -1         9.0      17.0          NaN          NaN          NaN   \n",
       "3         2         1.0      13.0          NaN          NaN          NaN   \n",
       "4        -1         1.0      20.0          NaN          NaN          NaN   \n",
       "\n",
       "   ALTER_KIND4  ALTERSKATEGORIE_FEIN  ANZ_HAUSHALTE_AKTIV  ANZ_HH_TITEL  \\\n",
       "0          NaN                   NaN                  NaN           NaN   \n",
       "1          NaN                  21.0                 11.0           0.0   \n",
       "2          NaN                  17.0                 10.0           0.0   \n",
       "3          NaN                  13.0                  1.0           0.0   \n",
       "4          NaN                  14.0                  3.0           0.0   \n",
       "\n",
       "          ...           VK_DISTANZ  VK_ZG11  W_KEIT_KIND_HH  WOHNDAUER_2008  \\\n",
       "0         ...                  NaN      NaN             NaN             NaN   \n",
       "1         ...                 11.0     10.0             3.0             9.0   \n",
       "2         ...                  9.0      6.0             3.0             9.0   \n",
       "3         ...                 10.0     11.0             NaN             9.0   \n",
       "4         ...                  5.0      4.0             2.0             9.0   \n",
       "\n",
       "   WOHNLAGE  ZABEOTYP ANREDE_KZ ALTERSKATEGORIE_GROB has_birth_year  \\\n",
       "0       NaN         3         1                    2          False   \n",
       "1       4.0         5         2                    1           True   \n",
       "2       2.0         5         2                    3           True   \n",
       "3       7.0         3         2                    4           True   \n",
       "4       3.0         4         1                    3           True   \n",
       "\n",
       "   GEBURTSJAHR_imputed  \n",
       "0               1968.0  \n",
       "1               1996.0  \n",
       "2               1979.0  \n",
       "3               1957.0  \n",
       "4               1963.0  \n",
       "\n",
       "[5 rows x 366 columns]"
      ]
     },
     "execution_count": 12,
     "metadata": {},
     "output_type": "execute_result"
    }
   ],
   "source": [
    "pop_transformed.head()"
   ]
  },
  {
   "cell_type": "code",
   "execution_count": 13,
   "metadata": {},
   "outputs": [
    {
     "data": {
      "text/html": [
       "<div>\n",
       "<style scoped>\n",
       "    .dataframe tbody tr th:only-of-type {\n",
       "        vertical-align: middle;\n",
       "    }\n",
       "\n",
       "    .dataframe tbody tr th {\n",
       "        vertical-align: top;\n",
       "    }\n",
       "\n",
       "    .dataframe thead th {\n",
       "        text-align: right;\n",
       "    }\n",
       "</style>\n",
       "<table border=\"1\" class=\"dataframe\">\n",
       "  <thead>\n",
       "    <tr style=\"text-align: right;\">\n",
       "      <th></th>\n",
       "      <th>AGER_TYP</th>\n",
       "      <th>AKT_DAT_KL</th>\n",
       "      <th>ALTER_HH</th>\n",
       "      <th>ALTER_KIND1</th>\n",
       "      <th>ALTER_KIND2</th>\n",
       "      <th>ALTER_KIND3</th>\n",
       "      <th>ALTER_KIND4</th>\n",
       "      <th>ALTERSKATEGORIE_FEIN</th>\n",
       "      <th>ANZ_HAUSHALTE_AKTIV</th>\n",
       "      <th>ANZ_HH_TITEL</th>\n",
       "      <th>...</th>\n",
       "      <th>VK_DISTANZ</th>\n",
       "      <th>VK_ZG11</th>\n",
       "      <th>W_KEIT_KIND_HH</th>\n",
       "      <th>WOHNDAUER_2008</th>\n",
       "      <th>WOHNLAGE</th>\n",
       "      <th>ZABEOTYP</th>\n",
       "      <th>ANREDE_KZ</th>\n",
       "      <th>ALTERSKATEGORIE_GROB</th>\n",
       "      <th>has_birth_year</th>\n",
       "      <th>GEBURTSJAHR_imputed</th>\n",
       "    </tr>\n",
       "  </thead>\n",
       "  <tbody>\n",
       "    <tr>\n",
       "      <th>0</th>\n",
       "      <td>2</td>\n",
       "      <td>1.0</td>\n",
       "      <td>10.0</td>\n",
       "      <td>NaN</td>\n",
       "      <td>NaN</td>\n",
       "      <td>NaN</td>\n",
       "      <td>NaN</td>\n",
       "      <td>10.0</td>\n",
       "      <td>1.0</td>\n",
       "      <td>0.0</td>\n",
       "      <td>...</td>\n",
       "      <td>3.0</td>\n",
       "      <td>2.0</td>\n",
       "      <td>6.0</td>\n",
       "      <td>9.0</td>\n",
       "      <td>7.0</td>\n",
       "      <td>3</td>\n",
       "      <td>1</td>\n",
       "      <td>4</td>\n",
       "      <td>False</td>\n",
       "      <td>1968.0</td>\n",
       "    </tr>\n",
       "    <tr>\n",
       "      <th>1</th>\n",
       "      <td>-1</td>\n",
       "      <td>9.0</td>\n",
       "      <td>11.0</td>\n",
       "      <td>NaN</td>\n",
       "      <td>NaN</td>\n",
       "      <td>NaN</td>\n",
       "      <td>NaN</td>\n",
       "      <td>NaN</td>\n",
       "      <td>NaN</td>\n",
       "      <td>NaN</td>\n",
       "      <td>...</td>\n",
       "      <td>6.0</td>\n",
       "      <td>3.0</td>\n",
       "      <td>0.0</td>\n",
       "      <td>9.0</td>\n",
       "      <td>NaN</td>\n",
       "      <td>3</td>\n",
       "      <td>1</td>\n",
       "      <td>4</td>\n",
       "      <td>False</td>\n",
       "      <td>1968.0</td>\n",
       "    </tr>\n",
       "    <tr>\n",
       "      <th>2</th>\n",
       "      <td>-1</td>\n",
       "      <td>1.0</td>\n",
       "      <td>6.0</td>\n",
       "      <td>NaN</td>\n",
       "      <td>NaN</td>\n",
       "      <td>NaN</td>\n",
       "      <td>NaN</td>\n",
       "      <td>0.0</td>\n",
       "      <td>1.0</td>\n",
       "      <td>0.0</td>\n",
       "      <td>...</td>\n",
       "      <td>13.0</td>\n",
       "      <td>11.0</td>\n",
       "      <td>6.0</td>\n",
       "      <td>9.0</td>\n",
       "      <td>2.0</td>\n",
       "      <td>3</td>\n",
       "      <td>2</td>\n",
       "      <td>4</td>\n",
       "      <td>False</td>\n",
       "      <td>1968.0</td>\n",
       "    </tr>\n",
       "    <tr>\n",
       "      <th>3</th>\n",
       "      <td>1</td>\n",
       "      <td>1.0</td>\n",
       "      <td>8.0</td>\n",
       "      <td>NaN</td>\n",
       "      <td>NaN</td>\n",
       "      <td>NaN</td>\n",
       "      <td>NaN</td>\n",
       "      <td>8.0</td>\n",
       "      <td>0.0</td>\n",
       "      <td>NaN</td>\n",
       "      <td>...</td>\n",
       "      <td>4.0</td>\n",
       "      <td>2.0</td>\n",
       "      <td>NaN</td>\n",
       "      <td>9.0</td>\n",
       "      <td>7.0</td>\n",
       "      <td>1</td>\n",
       "      <td>1</td>\n",
       "      <td>4</td>\n",
       "      <td>False</td>\n",
       "      <td>1968.0</td>\n",
       "    </tr>\n",
       "    <tr>\n",
       "      <th>4</th>\n",
       "      <td>-1</td>\n",
       "      <td>1.0</td>\n",
       "      <td>20.0</td>\n",
       "      <td>NaN</td>\n",
       "      <td>NaN</td>\n",
       "      <td>NaN</td>\n",
       "      <td>NaN</td>\n",
       "      <td>14.0</td>\n",
       "      <td>7.0</td>\n",
       "      <td>0.0</td>\n",
       "      <td>...</td>\n",
       "      <td>5.0</td>\n",
       "      <td>4.0</td>\n",
       "      <td>2.0</td>\n",
       "      <td>9.0</td>\n",
       "      <td>3.0</td>\n",
       "      <td>1</td>\n",
       "      <td>1</td>\n",
       "      <td>3</td>\n",
       "      <td>True</td>\n",
       "      <td>1960.0</td>\n",
       "    </tr>\n",
       "  </tbody>\n",
       "</table>\n",
       "<p>5 rows × 366 columns</p>\n",
       "</div>"
      ],
      "text/plain": [
       "   AGER_TYP  AKT_DAT_KL  ALTER_HH  ALTER_KIND1  ALTER_KIND2  ALTER_KIND3  \\\n",
       "0         2         1.0      10.0          NaN          NaN          NaN   \n",
       "1        -1         9.0      11.0          NaN          NaN          NaN   \n",
       "2        -1         1.0       6.0          NaN          NaN          NaN   \n",
       "3         1         1.0       8.0          NaN          NaN          NaN   \n",
       "4        -1         1.0      20.0          NaN          NaN          NaN   \n",
       "\n",
       "   ALTER_KIND4  ALTERSKATEGORIE_FEIN  ANZ_HAUSHALTE_AKTIV  ANZ_HH_TITEL  \\\n",
       "0          NaN                  10.0                  1.0           0.0   \n",
       "1          NaN                   NaN                  NaN           NaN   \n",
       "2          NaN                   0.0                  1.0           0.0   \n",
       "3          NaN                   8.0                  0.0           NaN   \n",
       "4          NaN                  14.0                  7.0           0.0   \n",
       "\n",
       "          ...           VK_DISTANZ  VK_ZG11  W_KEIT_KIND_HH  WOHNDAUER_2008  \\\n",
       "0         ...                  3.0      2.0             6.0             9.0   \n",
       "1         ...                  6.0      3.0             0.0             9.0   \n",
       "2         ...                 13.0     11.0             6.0             9.0   \n",
       "3         ...                  4.0      2.0             NaN             9.0   \n",
       "4         ...                  5.0      4.0             2.0             9.0   \n",
       "\n",
       "   WOHNLAGE  ZABEOTYP ANREDE_KZ ALTERSKATEGORIE_GROB has_birth_year  \\\n",
       "0       7.0         3         1                    4          False   \n",
       "1       NaN         3         1                    4          False   \n",
       "2       2.0         3         2                    4          False   \n",
       "3       7.0         1         1                    4          False   \n",
       "4       3.0         1         1                    3           True   \n",
       "\n",
       "   GEBURTSJAHR_imputed  \n",
       "0               1968.0  \n",
       "1               1968.0  \n",
       "2               1968.0  \n",
       "3               1968.0  \n",
       "4               1960.0  \n",
       "\n",
       "[5 rows x 366 columns]"
      ]
     },
     "execution_count": 13,
     "metadata": {},
     "output_type": "execute_result"
    }
   ],
   "source": [
    "cust_transformed.head()"
   ]
  },
  {
   "cell_type": "markdown",
   "metadata": {},
   "source": [
    "It looks like there are a lot of fields without values. I'll take a closer look."
   ]
  },
  {
   "cell_type": "code",
   "execution_count": 14,
   "metadata": {},
   "outputs": [
    {
     "data": {
      "text/plain": [
       "ALTER_KIND4     0.998769\n",
       "ALTER_KIND3     0.993347\n",
       "ALTER_KIND2     0.973389\n",
       "ALTER_KIND1     0.938607\n",
       "KK_KUNDENTYP    0.584064\n",
       "EXTSEL992       0.444989\n",
       "KBA05_SEG6      0.292092\n",
       "KBA05_KW2       0.292092\n",
       "KBA05_KW1       0.292092\n",
       "KBA05_KRSZUL    0.292092\n",
       "dtype: float64"
      ]
     },
     "execution_count": 14,
     "metadata": {},
     "output_type": "execute_result"
    }
   ],
   "source": [
    "(cust_transformed.isna().sum().sort_values(ascending=False))[:10]/len(cust_transformed)"
   ]
  },
  {
   "cell_type": "markdown",
   "metadata": {},
   "source": [
    "As seen, there are quite a few fields with lots of missing data (>30%)."
   ]
  },
  {
   "cell_type": "markdown",
   "metadata": {},
   "source": [
    "Now, let's find a good cutoff value to keep some of the columns that are only missing a little bit of data."
   ]
  },
  {
   "cell_type": "code",
   "execution_count": 15,
   "metadata": {},
   "outputs": [
    {
     "name": "stdout",
     "output_type": "stream",
     "text": [
      "number of columns with less than 10% of data missing: 113\n"
     ]
    },
    {
     "data": {
      "text/plain": [
       "LP_STATUS_FEIN               0.016765\n",
       "LP_LEBENSPHASE_GROB          0.016765\n",
       "CJT_TYP_2                    0.016765\n",
       "LP_LEBENSPHASE_FEIN          0.016765\n",
       "LP_FAMILIE_GROB              0.016765\n",
       "LP_FAMILIE_FEIN              0.016765\n",
       "CJT_TYP_3                    0.016765\n",
       "LP_STATUS_GROB               0.016765\n",
       "CJT_KATALOGNUTZER            0.016765\n",
       "GFK_URLAUBERTYP              0.016765\n",
       "CJT_TYP_4                    0.016765\n",
       "CJT_GESAMTTYP                0.016765\n",
       "CJT_TYP_6                    0.016765\n",
       "CJT_TYP_1                    0.016765\n",
       "ONLINE_AFFINITAET            0.016765\n",
       "RETOURTYP_BK_S               0.016765\n",
       "RT_SCHNAEPPCHEN              0.016765\n",
       "RT_KEIN_ANREIZ               0.016765\n",
       "CJT_TYP_5                    0.016765\n",
       "HH_EINKOMMEN_SCORE           0.015486\n",
       "D19_GESAMT_ANZ_24            0.000000\n",
       "D19_GESAMT_DATUM             0.000000\n",
       "D19_GESAMT_OFFLINE_DATUM     0.000000\n",
       "D19_GESAMT_ONLINE_DATUM      0.000000\n",
       "D19_BANKEN_DATUM             0.000000\n",
       "D19_HANDWERK                 0.000000\n",
       "D19_HAUS_DEKO                0.000000\n",
       "D19_KINDERARTIKEL            0.000000\n",
       "D19_GARTEN                   0.000000\n",
       "D19_KONSUMTYP_MAX            0.000000\n",
       "                               ...   \n",
       "FINANZ_HAUSBAUER             0.000000\n",
       "FINANZ_ANLEGER               0.000000\n",
       "D19_REISEN                   0.000000\n",
       "D19_SAMMELARTIKEL            0.000000\n",
       "D19_SCHUHE                   0.000000\n",
       "D19_SONSTIGE                 0.000000\n",
       "D19_TECHNIK                  0.000000\n",
       "D19_TELKO_ANZ_12             0.000000\n",
       "D19_TELKO_ANZ_24             0.000000\n",
       "D19_TELKO_DATUM              0.000000\n",
       "D19_TELKO_MOBILE             0.000000\n",
       "D19_TELKO_OFFLINE_DATUM      0.000000\n",
       "D19_TELKO_ONLINE_DATUM       0.000000\n",
       "D19_TELKO_REST               0.000000\n",
       "D19_TIERARTIKEL              0.000000\n",
       "D19_VERSAND_ANZ_12           0.000000\n",
       "D19_VERSAND_ANZ_24           0.000000\n",
       "D19_VERSAND_DATUM            0.000000\n",
       "D19_VERSAND_OFFLINE_DATUM    0.000000\n",
       "D19_VERSAND_ONLINE_DATUM     0.000000\n",
       "D19_VERSAND_REST             0.000000\n",
       "D19_VERSI_ANZ_12             0.000000\n",
       "D19_VERSI_ANZ_24             0.000000\n",
       "D19_VERSI_DATUM              0.000000\n",
       "D19_VERSI_OFFLINE_DATUM      0.000000\n",
       "D19_VERSI_ONLINE_DATUM       0.000000\n",
       "D19_VERSICHERUNGEN           0.000000\n",
       "D19_VOLLSORTIMENT            0.000000\n",
       "D19_WEIN_FEINKOST            0.000000\n",
       "AGER_TYP                     0.000000\n",
       "Length: 113, dtype: float64"
      ]
     },
     "execution_count": 15,
     "metadata": {},
     "output_type": "execute_result"
    }
   ],
   "source": [
    "percent_missing = (cust_transformed.isna().sum().sort_values(ascending=False))/len(cust_transformed)\n",
    "keep_columns = percent_missing[percent_missing.values<.1]\n",
    "print('number of columns with less than 10% of data missing: {}'.format(len(keep_columns)))\n",
    "keep_columns"
   ]
  },
  {
   "cell_type": "markdown",
   "metadata": {},
   "source": [
    "Another thing to keep in mind is how many rows are missing data. For example if 10% of the rows are missing 10% of the columns, then I can either drop the rows and keep all the columns or drop the columns and keep all of the rows. To see if this is the case, I'll check how many columns and rows remain based on the drop order."
   ]
  },
  {
   "cell_type": "code",
   "execution_count": 16,
   "metadata": {},
   "outputs": [],
   "source": [
    "def num_missing(df, percent=10, which='col', \n",
    "                verbose=True, return_keep=False):\n",
    "    if which == 'col':\n",
    "        axis = 0\n",
    "    else: axis = 1\n",
    "    percent_missing = (df.isna().sum(axis=axis).sort_values(ascending=False))/df.shape[axis]*100\n",
    "    keep = percent_missing[percent_missing.values<percent].index\n",
    "    n_keep = len(keep)\n",
    "    if verbose:\n",
    "        print('number of {} with less than {}% of data missing: {}'.format(['columns','rows'][axis],\n",
    "                                                                       percent, n_keep))\n",
    "    if return_keep:\n",
    "        return keep\n",
    "    return n_keep"
   ]
  },
  {
   "cell_type": "code",
   "execution_count": 17,
   "metadata": {},
   "outputs": [
    {
     "name": "stdout",
     "output_type": "stream",
     "text": [
      "number of rows with less than 10% of data missing: 135078\n"
     ]
    },
    {
     "data": {
      "text/plain": [
       "135078"
      ]
     },
     "execution_count": 17,
     "metadata": {},
     "output_type": "execute_result"
    }
   ],
   "source": [
    "num_missing(cust_transformed, which='row')"
   ]
  },
  {
   "cell_type": "markdown",
   "metadata": {},
   "source": [
    "What happens if you drop columns and then drop rows."
   ]
  },
  {
   "cell_type": "code",
   "execution_count": 18,
   "metadata": {},
   "outputs": [
    {
     "name": "stdout",
     "output_type": "stream",
     "text": [
      "number of columns with less than 10% of data missing: 113\n",
      "number of rows with less than 10% of data missing: 188439\n"
     ]
    }
   ],
   "source": [
    "col_keep = num_missing(cust_transformed, which='col', return_keep=True)\n",
    "_ = num_missing(cust_transformed[col_keep], which='row')"
   ]
  },
  {
   "cell_type": "markdown",
   "metadata": {},
   "source": [
    "And now experiment with dropping rows and then columns."
   ]
  },
  {
   "cell_type": "code",
   "execution_count": 19,
   "metadata": {},
   "outputs": [
    {
     "name": "stdout",
     "output_type": "stream",
     "text": [
      "number of rows with less than 10% of data missing: 135078\n",
      "number of columns with less than 10% of data missing: 360\n"
     ]
    }
   ],
   "source": [
    "row_keep = num_missing(cust_transformed, which='row', return_keep=True)\n",
    "_ = num_missing(cust_transformed.loc[row_keep], which='col')"
   ]
  },
  {
   "cell_type": "markdown",
   "metadata": {},
   "source": [
    "So, if you drop columns first you can retain most of the rows and if you drop the rows first you can maintain most of the columns. However, these numbers aren't really correct because beyond having missing values, many of the varaibles in the data have an unknown indicator. It would be best if we viewed missing (as in NaN) in the data set and unkown (as in specified unknown) as the same. To do this, I'll have to parse the desription file to find the unknown indicators for each column."
   ]
  },
  {
   "cell_type": "code",
   "execution_count": 20,
   "metadata": {},
   "outputs": [],
   "source": [
    "description_filepath = './DIAS Attributes - Values 2017.xlsx'\n",
    "desc = pd.read_excel(description_filepath)"
   ]
  },
  {
   "cell_type": "code",
   "execution_count": 21,
   "metadata": {},
   "outputs": [
    {
     "data": {
      "text/html": [
       "<div>\n",
       "<style scoped>\n",
       "    .dataframe tbody tr th:only-of-type {\n",
       "        vertical-align: middle;\n",
       "    }\n",
       "\n",
       "    .dataframe tbody tr th {\n",
       "        vertical-align: top;\n",
       "    }\n",
       "\n",
       "    .dataframe thead th {\n",
       "        text-align: right;\n",
       "    }\n",
       "</style>\n",
       "<table border=\"1\" class=\"dataframe\">\n",
       "  <thead>\n",
       "    <tr style=\"text-align: right;\">\n",
       "      <th></th>\n",
       "      <th>Unnamed: 0</th>\n",
       "      <th>Attribute</th>\n",
       "      <th>Description</th>\n",
       "      <th>Value</th>\n",
       "      <th>Meaning</th>\n",
       "    </tr>\n",
       "  </thead>\n",
       "  <tbody>\n",
       "    <tr>\n",
       "      <th>0</th>\n",
       "      <td>NaN</td>\n",
       "      <td>AGER_TYP</td>\n",
       "      <td>best-ager typology</td>\n",
       "      <td>-1</td>\n",
       "      <td>unknown</td>\n",
       "    </tr>\n",
       "    <tr>\n",
       "      <th>1</th>\n",
       "      <td>NaN</td>\n",
       "      <td>NaN</td>\n",
       "      <td>NaN</td>\n",
       "      <td>0</td>\n",
       "      <td>no classification possible</td>\n",
       "    </tr>\n",
       "    <tr>\n",
       "      <th>2</th>\n",
       "      <td>NaN</td>\n",
       "      <td>NaN</td>\n",
       "      <td>NaN</td>\n",
       "      <td>1</td>\n",
       "      <td>passive elderly</td>\n",
       "    </tr>\n",
       "    <tr>\n",
       "      <th>3</th>\n",
       "      <td>NaN</td>\n",
       "      <td>NaN</td>\n",
       "      <td>NaN</td>\n",
       "      <td>2</td>\n",
       "      <td>cultural elderly</td>\n",
       "    </tr>\n",
       "    <tr>\n",
       "      <th>4</th>\n",
       "      <td>NaN</td>\n",
       "      <td>NaN</td>\n",
       "      <td>NaN</td>\n",
       "      <td>3</td>\n",
       "      <td>experience-driven elderly</td>\n",
       "    </tr>\n",
       "    <tr>\n",
       "      <th>5</th>\n",
       "      <td>NaN</td>\n",
       "      <td>ALTERSKATEGORIE_GROB</td>\n",
       "      <td>age classification through prename analysis</td>\n",
       "      <td>-1, 0</td>\n",
       "      <td>unknown</td>\n",
       "    </tr>\n",
       "    <tr>\n",
       "      <th>6</th>\n",
       "      <td>NaN</td>\n",
       "      <td>NaN</td>\n",
       "      <td>NaN</td>\n",
       "      <td>1</td>\n",
       "      <td>&lt; 30 years</td>\n",
       "    </tr>\n",
       "    <tr>\n",
       "      <th>7</th>\n",
       "      <td>NaN</td>\n",
       "      <td>NaN</td>\n",
       "      <td>NaN</td>\n",
       "      <td>2</td>\n",
       "      <td>30 - 45 years</td>\n",
       "    </tr>\n",
       "    <tr>\n",
       "      <th>8</th>\n",
       "      <td>NaN</td>\n",
       "      <td>NaN</td>\n",
       "      <td>NaN</td>\n",
       "      <td>3</td>\n",
       "      <td>46 - 60 years</td>\n",
       "    </tr>\n",
       "    <tr>\n",
       "      <th>9</th>\n",
       "      <td>NaN</td>\n",
       "      <td>NaN</td>\n",
       "      <td>NaN</td>\n",
       "      <td>4</td>\n",
       "      <td>&gt; 60 years</td>\n",
       "    </tr>\n",
       "  </tbody>\n",
       "</table>\n",
       "</div>"
      ],
      "text/plain": [
       "   Unnamed: 0             Attribute  \\\n",
       "0         NaN              AGER_TYP   \n",
       "1         NaN                   NaN   \n",
       "2         NaN                   NaN   \n",
       "3         NaN                   NaN   \n",
       "4         NaN                   NaN   \n",
       "5         NaN  ALTERSKATEGORIE_GROB   \n",
       "6         NaN                   NaN   \n",
       "7         NaN                   NaN   \n",
       "8         NaN                   NaN   \n",
       "9         NaN                   NaN   \n",
       "\n",
       "                                    Description  Value  \\\n",
       "0                            best-ager typology     -1   \n",
       "1                                           NaN      0   \n",
       "2                                           NaN      1   \n",
       "3                                           NaN      2   \n",
       "4                                           NaN      3   \n",
       "5  age classification through prename analysis   -1, 0   \n",
       "6                                           NaN      1   \n",
       "7                                           NaN      2   \n",
       "8                                           NaN      3   \n",
       "9                                           NaN      4   \n",
       "\n",
       "                      Meaning  \n",
       "0                     unknown  \n",
       "1  no classification possible  \n",
       "2             passive elderly  \n",
       "3            cultural elderly  \n",
       "4   experience-driven elderly  \n",
       "5                     unknown  \n",
       "6                  < 30 years  \n",
       "7               30 - 45 years  \n",
       "8               46 - 60 years  \n",
       "9                  > 60 years  "
      ]
     },
     "execution_count": 21,
     "metadata": {},
     "output_type": "execute_result"
    }
   ],
   "source": [
    "desc.head(10)"
   ]
  },
  {
   "cell_type": "code",
   "execution_count": 22,
   "metadata": {},
   "outputs": [],
   "source": [
    "def get_unknown_indicators(df):\n",
    "    unknown_map = {}\n",
    "    attrs = []\n",
    "    for _, row in df.iterrows():\n",
    "        att = row['Attribute']\n",
    "        if isinstance(att, str):\n",
    "            attrs.append(att)\n",
    "        val = row['Value']\n",
    "        meaning = str(row['Meaning']).split()\n",
    "        if 'unknown' in meaning:\n",
    "            unknown_map[attrs[-1]] = val\n",
    "    return attrs, unknown_map"
   ]
  },
  {
   "cell_type": "code",
   "execution_count": 23,
   "metadata": {},
   "outputs": [],
   "source": [
    "attrs, u_map = get_unknown_indicators(desc)"
   ]
  },
  {
   "cell_type": "markdown",
   "metadata": {},
   "source": [
    "Ok, recall that there are currently 364 columns in the data (actually 366, but I added two). Let's see how many have descriptions."
   ]
  },
  {
   "cell_type": "code",
   "execution_count": 24,
   "metadata": {},
   "outputs": [
    {
     "data": {
      "text/plain": [
       "313"
      ]
     },
     "execution_count": 24,
     "metadata": {},
     "output_type": "execute_result"
    }
   ],
   "source": [
    "len(attrs) - 1 # I already removed the original birth year column"
   ]
  },
  {
   "cell_type": "markdown",
   "metadata": {},
   "source": [
    "There are about 40 columns for which there is no description. Let's have a look at them and see if they are interesting or if there type can be inferred."
   ]
  },
  {
   "cell_type": "code",
   "execution_count": 25,
   "metadata": {},
   "outputs": [
    {
     "name": "stdout",
     "output_type": "stream",
     "text": [
      "{'D19_NAHRUNGSERGAENZUNG', 'UNGLEICHENN_FLAG', 'KBA13_HHZ', 'D19_SONSTIGE', 'KBA13_CCM_1401_2500', 'RT_KEIN_ANREIZ', 'D19_KOSMETIK', 'D19_SOZIALES', 'D19_HAUS_DEKO', 'D19_TELKO_REST', 'EINGEZOGENAM_HH_JAHR', 'D19_BEKLEIDUNG_REST', 'VK_ZG11', 'D19_VERSICHERUNGEN', 'VERDICHTUNGSRAUM', 'KK_KUNDENTYP', 'KBA13_ANTG2', 'ANZ_STATISTISCHE_HAUSHALTE', 'D19_KONSUMTYP_MAX', 'D19_ENERGIE', 'D19_VERSI_ONLINE_DATUM', 'SOHO_KZ', 'D19_HANDWERK', 'KBA13_ANTG4', 'D19_REISEN', 'UMFELD_ALT', 'KBA13_ANTG3', 'VHA', 'EXTSEL992', 'CJT_TYP_3', 'KBA13_BAUMAX', 'CJT_TYP_6', 'UMFELD_JUNG', 'KBA13_KMH_210', 'D19_SAMMELARTIKEL', 'ALTER_KIND4', 'D19_DIGIT_SERV', 'RT_SCHNAEPPCHEN', 'RT_UEBERGROESSE', 'has_birth_year', 'GEMEINDETYP', 'VK_DHT4A', 'ALTER_KIND1', 'D19_RATGEBER', 'EINGEFUEGT_AM', 'D19_BANKEN_LOKAL', 'HH_DELTA_FLAG', 'D19_GARTEN', 'KBA13_GBZ', 'CAMEO_INTL_2015', 'AKT_DAT_KL', 'VHN', 'KONSUMZELLE', 'CJT_TYP_4', 'MOBI_RASTER', 'D19_WEIN_FEINKOST', 'D19_BIO_OEKO', 'CJT_TYP_2', 'GEBURTSJAHR_imputed', 'KBA13_ANTG1', 'D19_BANKEN_GROSS', 'D19_KINDERARTIKEL', 'FIRMENDICHTE', 'D19_VERSI_DATUM', 'CJT_KATALOGNUTZER', 'D19_SCHUHE', 'D19_VERSAND_REST', 'STRUKTURTYP', 'D19_TIERARTIKEL', 'D19_BUCH_CD', 'D19_VOLLSORTIMENT', 'CJT_TYP_5', 'D19_DROGERIEARTIKEL', 'D19_TELKO_MOBILE', 'D19_BANKEN_REST', 'VK_DISTANZ', 'D19_VERSI_OFFLINE_DATUM', 'ALTER_KIND2', 'D19_FREIZEIT', 'D19_TECHNIK', 'D19_LETZTER_KAUF_BRANCHE', 'KOMBIALTER', 'ALTERSKATEGORIE_FEIN', 'D19_BILDUNG', 'CJT_TYP_1', 'D19_BEKLEIDUNG_GEH', 'ALTER_KIND3', 'D19_BANKEN_DIREKT', 'ARBEIT', 'D19_LEBENSMITTEL', 'DSL_FLAG', 'D19_LOTTO', 'ANZ_KINDER', 'D19_VERSI_ONLINE_QUOTE_12', 'D19_TELKO_ONLINE_QUOTE_12'}\n"
     ]
    }
   ],
   "source": [
    "no_desc = set(cust_transformed.columns) - set(attrs)\n",
    "print(no_desc)"
   ]
  },
  {
   "cell_type": "markdown",
   "metadata": {},
   "source": [
    "It looks like a lot of these are actually present in the description file, they are just spelled slightly differently. I'll append some rules to the `get_unknown_indicators` function to account for this."
   ]
  },
  {
   "cell_type": "code",
   "execution_count": 26,
   "metadata": {},
   "outputs": [],
   "source": [
    "def get_unknown_indicators(df):\n",
    "    unknown_map = {}\n",
    "    attrs = []\n",
    "    for _, row in df.iterrows():\n",
    "        att = row['Attribute']\n",
    "        if isinstance(att, str):\n",
    "            if att[-3:] == '_RZ':\n",
    "                att = att[:-3]\n",
    "            if att == 'D19_KONSUMTYP':\n",
    "                att += '_MAX'\n",
    "            if att == 'CAMEO_DEUINTL_2015':\n",
    "                att = 'CAMEO_INTL_2015'\n",
    "            if att == 'D19_KK_KUNDENTYP':\n",
    "                att = 'KK_KUNDENTYP'\n",
    "            attrs.append(att)\n",
    "        val = row['Value']\n",
    "        meaning = str(row['Meaning']).split()\n",
    "        if 'unknown' in meaning:\n",
    "            unknown_map[attrs[-1]] = val\n",
    "    return attrs, unknown_map"
   ]
  },
  {
   "cell_type": "code",
   "execution_count": 27,
   "metadata": {},
   "outputs": [
    {
     "name": "stdout",
     "output_type": "stream",
     "text": [
      "314\n",
      "{'KBA13_ANTG3', 'VHA', 'EXTSEL992', 'CJT_TYP_3', 'KBA13_BAUMAX', 'EINGEFUEGT_AM', 'UNGLEICHENN_FLAG', 'HH_DELTA_FLAG', 'CJT_TYP_6', 'KBA13_GBZ', 'KBA13_HHZ', 'VK_DISTANZ', 'AKT_DAT_KL', 'UMFELD_JUNG', 'KBA13_CCM_1401_2500', 'RT_KEIN_ANREIZ', 'VHN', 'KBA13_KMH_210', 'D19_VERSI_OFFLINE_DATUM', 'ALTER_KIND2', 'CJT_TYP_4', 'KONSUMZELLE', 'MOBI_RASTER', 'D19_LETZTER_KAUF_BRANCHE', 'D19_SOZIALES', 'CJT_TYP_2', 'GEBURTSJAHR_imputed', 'ALTER_KIND4', 'KBA13_ANTG1', 'KOMBIALTER', 'D19_KONSUMTYP', 'RT_SCHNAEPPCHEN', 'FIRMENDICHTE', 'D19_VERSI_DATUM', 'CJT_TYP_1', 'RT_UEBERGROESSE', 'ALTERSKATEGORIE_FEIN', 'has_birth_year', 'ALTER_KIND3', 'CJT_KATALOGNUTZER', 'ARBEIT', 'EINGEZOGENAM_HH_JAHR', 'GEMEINDETYP', 'VK_ZG11', 'VERDICHTUNGSRAUM', 'KBA13_ANTG2', 'ANZ_STATISTISCHE_HAUSHALTE', 'DSL_FLAG', 'STRUKTURTYP', 'D19_BUCH_CD', 'VK_DHT4A', 'ANZ_KINDER', 'D19_VERSI_ONLINE_QUOTE_12', 'D19_VERSI_ONLINE_DATUM', 'SOHO_KZ', 'ALTER_KIND1', 'CJT_TYP_5', 'KBA13_ANTG4', 'D19_TELKO_ONLINE_QUOTE_12', 'UMFELD_ALT'}\n"
     ]
    }
   ],
   "source": [
    "attrs, u_map = get_unknown_indicators(desc)\n",
    "print(len(attrs))\n",
    "no_desc = set(cust_transformed.columns) - set(attrs)\n",
    "print(no_desc)"
   ]
  },
  {
   "cell_type": "markdown",
   "metadata": {},
   "source": [
    "The CJT_TYP_* columns are filled with values unless the CJT_GESAMTTYP entry is missing. Same for the RT_* columns.\n",
    "After inspection it looks like most of these are fine to keep. Now, that I know the missing value flags I can fill these in and then drop columns/rows appropriately."
   ]
  },
  {
   "cell_type": "code",
   "execution_count": 28,
   "metadata": {},
   "outputs": [],
   "source": [
    "def func(x, vals):\n",
    "    if isinstance(vals, int):\n",
    "        if x==vals:\n",
    "            x = np.nan\n",
    "    else:\n",
    "        vals = [int(val) for val in vals.split(',')]\n",
    "        if x in vals:\n",
    "            x = np.nan\n",
    "    return x\n",
    "\n",
    "def add_missing(df, mapper):\n",
    "    for k, v in mapper.items():\n",
    "        if (k=='BIP_FLAG' or k=='GEOSCORE_KLS7' \n",
    "            or k=='HAUSHALTSSTRUKTUR' or k=='KBA13_CCM_1400_2500'\n",
    "            or k=='SOHO_FLAG' or k=='WACHSTUMSGEBIET_NB'):\n",
    "            continue\n",
    "        df[k] = df[k].apply(func, vals=v)\n",
    "    return df"
   ]
  },
  {
   "cell_type": "code",
   "execution_count": null,
   "metadata": {},
   "outputs": [],
   "source": [
    "cc = cust_transformed.copy()\n",
    "cc = add_missing(cc, u_map)\n",
    "pp = pop_transformed.copy()\n",
    "pp = add_missing(pp, u_map)"
   ]
  },
  {
   "cell_type": "code",
   "execution_count": null,
   "metadata": {},
   "outputs": [],
   "source": [
    "print('customer data')\n",
    "keep_col_cust = num_missing(cc, which='col', return_keep=True)\n",
    "print('population data')\n",
    "keep_col_pop = num_missing(pp, which='col', return_keep=True)\n",
    "columns = list(set(keep_col_cust).intersection(set(keep_col_pop)))\n",
    "print('keeping {} columns'.format(len(columns)))\n",
    "cc = cc.filter(columns, axis=1)\n",
    "pp = pp.filter(columns, axis=1)\n",
    "print('customer data')\n",
    "keep_rows_cust = num_missing(cc, which='row', return_keep=True)\n",
    "print('population data')\n",
    "keep_rows_pop = num_missing(pp, which='row', return_keep=True)\n",
    "cc = cc.loc[keep_rows_cust]\n",
    "pp = pp.loc[keep_rows_pop]\n",
    "print('\\nSanity check:')\n",
    "print('length of customer data: {}'.format(len(cc)))\n",
    "print('length of population data: {}'.format(len(pp)))"
   ]
  },
  {
   "cell_type": "code",
   "execution_count": null,
   "metadata": {},
   "outputs": [],
   "source": [
    "cc.head()"
   ]
  },
  {
   "cell_type": "code",
   "execution_count": null,
   "metadata": {},
   "outputs": [],
   "source": [
    "pp.head()"
   ]
  },
  {
   "cell_type": "markdown",
   "metadata": {},
   "source": [
    "107 features is a lot more manageable. Now I'll use a simple imputation strategy to fill in the missing values."
   ]
  },
  {
   "cell_type": "code",
   "execution_count": null,
   "metadata": {},
   "outputs": [],
   "source": [
    "impute_reduced_dfs = Imputer(strategy=\"most_frequent\")\n",
    "pop_t_red_imp = impute_reduced_dfs.fit_transform(pp)\n",
    "cut_t_red_imp = impute_reduced_dfs.transform(cc)"
   ]
  },
  {
   "cell_type": "code",
   "execution_count": null,
   "metadata": {},
   "outputs": [],
   "source": [
    "pop_t_red_imp = pd.DataFrame(pop_t_red_imp, columns = pp.columns)\n",
    "cust_t_red_imp = pd.DataFrame(cut_t_red_imp, columns = cc.columns)\n",
    "cust_t_red_imp.head()"
   ]
  },
  {
   "cell_type": "markdown",
   "metadata": {},
   "source": [
    "107 features is still too many for k-modes. First, I'll calculate the features with the highest correlation and remove some of them."
   ]
  },
  {
   "cell_type": "code",
   "execution_count": null,
   "metadata": {},
   "outputs": [],
   "source": [
    "combined = pd.concat((cust_t_red_imp, pop_t_red_imp), axis=0)\n",
    "cust_label = np.zeros(len(cust_t_red_imp)+len(pop_t_red_imp), dtype=int)\n",
    "print('idx: {}, total: {}'.format(len(cust_t_red_imp), len(combined)))\n",
    "cust_label[:len(cust_t_red_imp)] = 1\n",
    "combined['label'] = cust_label"
   ]
  },
  {
   "cell_type": "markdown",
   "metadata": {},
   "source": [
    "<a src=https://towardsdatascience.com/the-search-for-categorical-correlation-a1cf7f1888c9>Cramers_v function</a>"
   ]
  },
  {
   "cell_type": "code",
   "execution_count": null,
   "metadata": {},
   "outputs": [],
   "source": [
    "import scipy.stats as ss\n",
    "def cramers_v(x, y):\n",
    "    confusion_matrix = pd.crosstab(x,y)\n",
    "    chi2 = ss.chi2_contingency(confusion_matrix)[0]\n",
    "    n = confusion_matrix.sum().sum()\n",
    "    phi2 = chi2/n\n",
    "    r,k = confusion_matrix.shape\n",
    "    phi2corr = max(0, phi2-((k-1)*(r-1))/(n-1))\n",
    "    rcorr = r-((r-1)**2)/(n-1)\n",
    "    kcorr = k-((k-1)**2)/(n-1)\n",
    "    return np.sqrt(phi2corr/min((kcorr-1),(rcorr-1)))"
   ]
  },
  {
   "cell_type": "code",
   "execution_count": null,
   "metadata": {},
   "outputs": [],
   "source": [
    "cramer = []\n",
    "for col in combined.columns:\n",
    "    tmp = []\n",
    "    for c2 in combined.columns:\n",
    "        tmp.append(cramers_v(combined[col], combined[c2]))\n",
    "    cramer.append(tmp)\n",
    "cramer = np.asarray(cramer)"
   ]
  },
  {
   "cell_type": "code",
   "execution_count": null,
   "metadata": {},
   "outputs": [],
   "source": [
    "import seaborn as sns\n",
    "fig, ax = plt.subplots(figsize=(12,12))\n",
    "ax = sns.heatmap(cramer)"
   ]
  },
  {
   "cell_type": "markdown",
   "metadata": {},
   "source": [
    "This project has two tasks, the first is to segment the population and the second is to predict which part of the poplulation will become customers. For the first task it is important to remove highly correlated features because removing these will reduce the dimensionality of the data without removing much information. For the second task it is good to keep features that correlate to the target (customer or not). I'll explore which features have high inter-feature and target correlation and then keep a subset of these."
   ]
  },
  {
   "cell_type": "code",
   "execution_count": null,
   "metadata": {},
   "outputs": [],
   "source": [
    "# top n features that correlate with the target\n",
    "n = 10\n",
    "sorted_args = np.argsort(cramer[-1])[::-1]\n",
    "target_corr_names = combined.columns[sorted_args]\n",
    "target_corr_values = cramer[-1][sorted_args]\n",
    "for ix, (name, value) in enumerate(zip(target_corr_names, target_corr_values)):\n",
    "    if ix > n+1:\n",
    "        break\n",
    "    print('{}: {}'.format(name, value))"
   ]
  },
  {
   "cell_type": "code",
   "execution_count": null,
   "metadata": {},
   "outputs": [],
   "source": [
    "# sorted features with inter-feature correlation\n",
    "n=50\n",
    "ti = np.triu_indices(cramer.shape[0],1)\n",
    "corrs = np.argsort(cramer[ti])[::-1]\n",
    "features = [(combined.columns[ti[0][i]], combined.columns[ti[1][i]]) for i in corrs]\n",
    "values = [cramer[ti[0][i]][ti[1][i]] for i in corrs]\n",
    "for ix, (names, value) in enumerate(zip(features, values)):\n",
    "    if ix > n:\n",
    "        break\n",
    "    print('{}, {}'.format(names, value))"
   ]
  },
  {
   "cell_type": "markdown",
   "metadata": {},
   "source": [
    "A lot of interesting trends fall out of this. First, features with FEIN (for fine scaled) and GROB (for rough scaled) have perfect correlation. Inspection of the descriptions shows that the rough features are supposed to be bins of similiar fine featuers. However, the rough binning wasn't actually performed in the data. \n",
    "\n",
    "Next, we see that LEBENSPHASE (lifestage) and FAMILIE (family type) are highly correlated.\n",
    "\n",
    "Moving on, D19_GESAMT and D19_VERSAND which both measure time since the last online transaction.\n",
    "\n",
    "SEMIO_KAEM (affinity to fight) and ANREDE_KZ (gender).\n",
    "\n",
    "ANREDE_KZ (gender) and SEMIO_VERT (affinity towards dreamily?). \n",
    "\n",
    "...\n",
    "\n",
    "FINANZ_SPARER (money saver) and KOMBIALTER (combined).\n",
    "\n",
    "For k-modes I'll pick 20 features without redundant information."
   ]
  },
  {
   "cell_type": "code",
   "execution_count": null,
   "metadata": {},
   "outputs": [],
   "source": [
    "k_modes_features = ['LP_LEBENSPHASE_FEIN',\n",
    "                    'CJT_TYP_5', \n",
    "                    'D19_KONSUMTYP_MAX',\n",
    "                    'CJT_TYP_3',\n",
    "                    'CJT_TYP_6',\n",
    "                    'KOMBIALTER',\n",
    "                    'CJT_TYP_4',\n",
    "                    'FINANZ_MINIMALIST',\n",
    "                    'SEMIO_LUST',\n",
    "                    'ANREDE_KZ',\n",
    "                    'D19_VERSAND_ANZ_12',\n",
    "                    'D19_VERSAND_ANZ_24',\n",
    "                    'D19_VERSICHERUNGEN',\n",
    "                    'GREEN_AVANTGARDE',\n",
    "                    'ALTERSKATEGORIE_GROB',\n",
    "                    'D19_TELKO_MOBILE',\n",
    "                    'SEMIO_PFLICHT',\n",
    "                    'SEMIO_RAT',\n",
    "                    'HH_EINKOMMEN_SCORE']"
   ]
  },
  {
   "cell_type": "code",
   "execution_count": null,
   "metadata": {},
   "outputs": [],
   "source": [
    "!pip install kmodes\n",
    "\n",
    "from kmodes.kmodes import KModes\n",
    "km = KModes(n_clusters=6, init='Huang', n_init=2, verbose=2)\n",
    "km.fit(combined[k_modes_features].values)"
   ]
  },
  {
   "cell_type": "code",
   "execution_count": null,
   "metadata": {},
   "outputs": [],
   "source": [
    "idx = len(cust_t_red_imp)\n",
    "clusters = km.predict(combined[k_modes_features])"
   ]
  },
  {
   "cell_type": "code",
   "execution_count": null,
   "metadata": {},
   "outputs": [],
   "source": [
    "c_clusters = clusters[:idx]\n",
    "p_clusters = clusters[idx:]\n",
    "n = km.n_clusters\n",
    "c_counts = [np.sum(c_clusters==i) for i in np.arange(n)]\n",
    "p_counts = [np.sum(p_clusters==i) for i in np.arange(n)]\n",
    "mat = np.array([c_counts, p_counts])\n",
    "print(np.sum(mat, axis=1))\n",
    "width=.35\n",
    "plt.bar(np.arange(n)-width/2, mat[0]/np.sum(mat, axis=0), width=width)\n",
    "plt.bar(np.arange(n)+width/2, mat[1]/np.sum(mat, axis=0), width=width)\n",
    "plt.show()\n",
    "plt.bar(np.arange(n)-width/2, mat[0]/np.sum(mat, axis=1)[0], width=width)\n",
    "plt.bar(np.arange(n)+width/2, mat[1]/np.sum(mat, axis=1)[1], width=width)\n",
    "plt.show()\n"
   ]
  },
  {
   "cell_type": "code",
   "execution_count": null,
   "metadata": {},
   "outputs": [],
   "source": [
    "print(km.cluster_centroids_[0])\n",
    "print(len(combined))\n",
    "print(len(p_clusters))\n",
    "print(len(c_clusters))"
   ]
  },
  {
   "cell_type": "code",
   "execution_count": null,
   "metadata": {},
   "outputs": [],
   "source": [
    "from sklearn.naive_bayes import MultinomialNB as NB\n",
    "nb = NB()\n",
    "nb.fit(combined[k_modes_features].values, cust_label)\n",
    "preds = nb.predict(combined[k_modes_features].values)\n",
    "pred_score = nb.predict_proba(combined[k_modes_features].values)[:,1]\n",
    "\n",
    "from sklearn.metrics import confusion_matrix, accuracy_score as acc, roc_auc_score as score\n",
    "cm = confusion_matrix(cust_label, preds)\n",
    "print(preds)\n",
    "print(cm)\n",
    "print(acc(cust_label, preds))\n",
    "print(score(cust_label, pred_score))"
   ]
  },
  {
   "cell_type": "code",
   "execution_count": 97,
   "metadata": {},
   "outputs": [],
   "source": [
    "def hexplot(x, y, title, mincnt=1):\n",
    "    fig, ax = plt.subplots(figsize=(9, 6))\n",
    "    plt.tick_params(labelsize=16)\n",
    "    ax.set_aspect('equal')\n",
    "    ax.grid(alpha=0.8, linestyle='-', zorder=0)\n",
    "    ax.set_axisbelow(True)\n",
    "    hb = ax.hexbin(x, y, cmap='viridis', mincnt=mincnt,\n",
    "                   gridsize=100, bins=None, extent=[x.min(),\n",
    "                   x.max(), y.min(), y.max()])\n",
    "    ax.set_title(\"PCA transform of %s\" % title, fontsize=16)\n",
    "    cb = fig.colorbar(hb, ax=ax)\n",
    "    cb.ax.tick_params(labelsize=16)\n",
    "    cb.set_label('Counts', fontsize=16)\n",
    "    ax.set_xlabel(\"pca_1\", size=16)\n",
    "    ax.set_ylabel(\"pca_2\", size=16)\n",
    "    plt.show()"
   ]
  },
  {
   "cell_type": "markdown",
   "metadata": {},
   "source": [
    "Ok, time to do things a little more manually. I'll look at the distributions of the features with the largest $\\chi^2$ test statistic and cross entropy when comparing the population and customer distributions."
   ]
  },
  {
   "cell_type": "code",
   "execution_count": 129,
   "metadata": {},
   "outputs": [],
   "source": [
    "from scipy.stats import chi2_contingency\n",
    "\n",
    "x2 = []\n",
    "cats = []\n",
    "probs = []\n",
    "p_values = []\n",
    "cross_entropy = []\n",
    "\n",
    "for col in keep_columns.index:\n",
    "    contingency = pd.concat((pop_t_red_imp[col].value_counts(),\n",
    "                            cust_t_red_imp[col].value_counts()),\n",
    "                            axis=1).fillna(0).T\n",
    "    cats.append(contingency.columns)\n",
    "    contingency = contingency.values\n",
    "    prob = contingency/(np.sum(contingency, axis=1).reshape((2,1)))\n",
    "    probs.append(prob)\n",
    "    cross_entropy.append(-np.sum(prob[0,:] * np.log2(prob[1,:]+1e-8)))\n",
    "    chi2, p, _, _ = chi2_contingency(contingency)\n",
    "    x2.append(chi2)\n",
    "    p_values.append(p)\n",
    "\n",
    "max_diff_ce = np.argsort(cross_entropy)[::-1]\n",
    "max_diff_x2 = np.argsort(p_values)"
   ]
  },
  {
   "cell_type": "code",
   "execution_count": 134,
   "metadata": {},
   "outputs": [
    {
     "data": {
      "image/png": "[encoded data removed]",
      "text/plain": [
       "<matplotlib.figure.Figure at 0x7f1133de3ac8>"
      ]
     },
     "metadata": {
      "needs_background": "light"
     },
     "output_type": "display_data"
    },
    {
     "data": {
      "image/png": "[encoded data removed]",
      "text/plain": [
       "<matplotlib.figure.Figure at 0x7f1130f5fb70>"
      ]
     },
     "metadata": {
      "needs_background": "light"
     },
     "output_type": "display_data"
    },
    {
     "data": {
      "image/png": "[encoded data removed]",
      "text/plain": [
       "<matplotlib.figure.Figure at 0x7f1133def710>"
      ]
     },
     "metadata": {
      "needs_background": "light"
     },
     "output_type": "display_data"
    },
    {
     "data": {
      "image/png": "[encoded data removed]",
      "text/plain": [
       "<matplotlib.figure.Figure at 0x7f1149038940>"
      ]
     },
     "metadata": {
      "needs_background": "light"
     },
     "output_type": "display_data"
    },
    {
     "data": {
      "image/png": "[encoded data removed]",
      "text/plain": [
       "<matplotlib.figure.Figure at 0x7f1131a97b70>"
      ]
     },
     "metadata": {
      "needs_background": "light"
     },
     "output_type": "display_data"
    },
    {
     "data": {
      "image/png": "[encoded data removed]",
      "text/plain": [
       "<matplotlib.figure.Figure at 0x7f1133ebd860>"
      ]
     },
     "metadata": {
      "needs_background": "light"
     },
     "output_type": "display_data"
    },
    {
     "data": {
      "image/png": "[encoded data removed]",
      "text/plain": [
       "<matplotlib.figure.Figure at 0x7f11335ab588>"
      ]
     },
     "metadata": {
      "needs_background": "light"
     },
     "output_type": "display_data"
    },
    {
     "data": {
      "image/png": "[encoded data removed]",
      "text/plain": [
       "<matplotlib.figure.Figure at 0x7f1131c422b0>"
      ]
     },
     "metadata": {
      "needs_background": "light"
     },
     "output_type": "display_data"
    },
    {
     "data": {
      "image/png": "[encoded data removed]",
      "text/plain": [
       "<matplotlib.figure.Figure at 0x7f1132cfdef0>"
      ]
     },
     "metadata": {
      "needs_background": "light"
     },
     "output_type": "display_data"
    },
    {
     "data": {
      "image/png": "[encoded data removed]",
      "text/plain": [
       "<matplotlib.figure.Figure at 0x7f11341d9278>"
      ]
     },
     "metadata": {
      "needs_background": "light"
     },
     "output_type": "display_data"
    }
   ],
   "source": [
    "# plot the features with the highest x^2 test statistic\n",
    "# between population and customer data \n",
    "n_plots = 10\n",
    "def plot_dist(ax, x, y1, y2, title):\n",
    "    ax.bar(x, y1, label='population', alpha=.5)\n",
    "    ax.bar(x, y2, label='customer', alpha=.5)\n",
    "    ax.legend()\n",
    "    ax.set_title(title)\n",
    "\n",
    "for idx_ce, idx_x2 in zip(max_diff_ce[:n_plots], max_diff_x2[:n_plots]):\n",
    "    fig, (ax1, ax2) = plt.subplots(ncols=2, figsize=(10,4))\n",
    "    col_ce = keep_columns.index[idx_ce]\n",
    "    col_x2 = keep_columns.index[idx_x2]\n",
    "    plot_dist(ax1, cats[idx_ce], \n",
    "              probs[idx_ce][0,:], probs[idx_ce][1,:],\n",
    "              col_ce+'\\ncross entropy: {}'.format(cross_entropy[idx_ce]))\n",
    "    plot_dist(ax2, cats[idx_x2], \n",
    "              probs[idx_x2][0,:], probs[idx_x2][1,:],\n",
    "              col_x2+'\\n$\\chi^2$: {}'.format(x2[idx_x2]))\n",
    "    plt.show()"
   ]
  },
  {
   "cell_type": "markdown",
   "metadata": {},
   "source": [
    "In the plots above, we can see which features have the most different distributions between the general population and the customers. In theory, keeping a subset of these discriminative variables will aid in segmenting the customers from the population. Interestingly, the $\\chi^2$ test indicates that all of the features are signficant so it is not very useful.\n",
    "\n",
    "However, manual inspection of these plots yields some interesting insights:"
   ]
  },
  {
   "cell_type": "markdown",
   "metadata": {},
   "source": [
    "Now, let's get back to clustering. First, I'll convert the birth year to a categorical variable by binning it into decades. Then I'll apply k-modes to the data. k-Modes is like k-means but is more appropriate for categorical data."
   ]
  },
  {
   "cell_type": "code",
   "execution_count": 146,
   "metadata": {},
   "outputs": [],
   "source": [
    "cust_tmp = cust_t_red_imp.drop(['GEBURTSJAHR_imputed'], axis=1)\n",
    "pop_tmp = pop_t_red_imp.drop(['GEBURTSJAHR_imputed'], axis=1)\n",
    "birth_years = np.hstack((cust_t_red_imp['GEBURTSJAHR_imputed'].values,\n",
    "                         pop_t_red_imp['GEBURTSJAHR_imputed'].values))\n",
    "\n",
    "binned_births = pd.cut(birth_years, 5, labels=False)\n",
    "idx = len(cust_tmp)\n",
    "cust_data = np.hstack((cust_tmp.values, binned_births[:idx].reshape((-1,1))))\n",
    "pop_data = np.hstack((pop_tmp.values, binned_births[idx:].reshape((-1,1))))"
   ]
  },
  {
   "cell_type": "code",
   "execution_count": 148,
   "metadata": {},
   "outputs": [
    {
     "name": "stdout",
     "output_type": "stream",
     "text": [
      "Collecting kmodes\n",
      "  Downloading https://files.pythonhosted.org/packages/b2/55/d8ec1ae1f7e1e202a8a4184c6852a3ee993b202b0459672c699d0ac18fc8/kmodes-0.10.2-py2.py3-none-any.whl\n",
      "Requirement already satisfied: scipy>=0.13.3 in /opt/conda/lib/python3.6/site-packages (from kmodes) (1.2.1)\n",
      "Requirement already satisfied: scikit-learn>=0.19.0 in /opt/conda/lib/python3.6/site-packages (from kmodes) (0.19.1)\n",
      "Requirement already satisfied: numpy>=1.10.4 in /opt/conda/lib/python3.6/site-packages (from kmodes) (1.12.1)\n",
      "Requirement already satisfied: joblib>=0.11 in /opt/conda/lib/python3.6/site-packages (from kmodes) (0.11)\n",
      "Installing collected packages: kmodes\n",
      "Successfully installed kmodes-0.10.2\n"
     ]
    },
    {
     "ename": "KeyboardInterrupt",
     "evalue": "",
     "output_type": "error",
     "traceback": [
      "\u001b[0;31m---------------------------------------------------------------------------\u001b[0m",
      "\u001b[0;31mKeyboardInterrupt\u001b[0m                         Traceback (most recent call last)",
      "\u001b[0;32m<ipython-input-148-a9de752d4552>\u001b[0m in \u001b[0;36m<module>\u001b[0;34m()\u001b[0m\n\u001b[1;32m      3\u001b[0m \u001b[0;32mfrom\u001b[0m \u001b[0mkmodes\u001b[0m\u001b[0;34m.\u001b[0m\u001b[0mkmodes\u001b[0m \u001b[0;32mimport\u001b[0m \u001b[0mKModes\u001b[0m\u001b[0;34m\u001b[0m\u001b[0m\n\u001b[1;32m      4\u001b[0m \u001b[0mkm\u001b[0m \u001b[0;34m=\u001b[0m \u001b[0mKModes\u001b[0m\u001b[0;34m(\u001b[0m\u001b[0mn_clusters\u001b[0m\u001b[0;34m=\u001b[0m\u001b[0;36m5\u001b[0m\u001b[0;34m,\u001b[0m \u001b[0minit\u001b[0m\u001b[0;34m=\u001b[0m\u001b[0;34m'Huang'\u001b[0m\u001b[0;34m,\u001b[0m \u001b[0mn_init\u001b[0m\u001b[0;34m=\u001b[0m\u001b[0;36m1\u001b[0m\u001b[0;34m,\u001b[0m \u001b[0mverbose\u001b[0m\u001b[0;34m=\u001b[0m\u001b[0;36m2\u001b[0m\u001b[0;34m)\u001b[0m\u001b[0;34m\u001b[0m\u001b[0m\n\u001b[0;32m----> 5\u001b[0;31m \u001b[0mkm\u001b[0m\u001b[0;34m.\u001b[0m\u001b[0mfit\u001b[0m\u001b[0;34m(\u001b[0m\u001b[0mpop_data\u001b[0m\u001b[0;34m)\u001b[0m\u001b[0;34m\u001b[0m\u001b[0m\n\u001b[0m\u001b[1;32m      6\u001b[0m \u001b[0;34m\u001b[0m\u001b[0m\n\u001b[1;32m      7\u001b[0m \u001b[0;31m# Print the cluster centroids\u001b[0m\u001b[0;34m\u001b[0m\u001b[0;34m\u001b[0m\u001b[0m\n",
      "\u001b[0;32m/opt/conda/lib/python3.6/site-packages/kmodes/kmodes.py\u001b[0m in \u001b[0;36mfit\u001b[0;34m(self, X, y, **kwargs)\u001b[0m\n\u001b[1;32m    406\u001b[0m             \u001b[0mself\u001b[0m\u001b[0;34m.\u001b[0m\u001b[0mverbose\u001b[0m\u001b[0;34m,\u001b[0m\u001b[0;34m\u001b[0m\u001b[0m\n\u001b[1;32m    407\u001b[0m             \u001b[0mrandom_state\u001b[0m\u001b[0;34m,\u001b[0m\u001b[0;34m\u001b[0m\u001b[0m\n\u001b[0;32m--> 408\u001b[0;31m             \u001b[0mself\u001b[0m\u001b[0;34m.\u001b[0m\u001b[0mn_jobs\u001b[0m\u001b[0;34m,\u001b[0m\u001b[0;34m\u001b[0m\u001b[0m\n\u001b[0m\u001b[1;32m    409\u001b[0m         )\n\u001b[1;32m    410\u001b[0m         \u001b[0;32mreturn\u001b[0m \u001b[0mself\u001b[0m\u001b[0;34m\u001b[0m\u001b[0m\n",
      "\u001b[0;32m/opt/conda/lib/python3.6/site-packages/kmodes/kmodes.py\u001b[0m in \u001b[0;36mk_modes\u001b[0;34m(X, n_clusters, max_iter, dissim, init, n_init, verbose, random_state, n_jobs)\u001b[0m\n\u001b[1;32m    263\u001b[0m     \u001b[0;31m# Are there more n_clusters than unique rows? Then set the unique\u001b[0m\u001b[0;34m\u001b[0m\u001b[0;34m\u001b[0m\u001b[0m\n\u001b[1;32m    264\u001b[0m     \u001b[0;31m# rows as initial values and skip iteration.\u001b[0m\u001b[0;34m\u001b[0m\u001b[0;34m\u001b[0m\u001b[0m\n\u001b[0;32m--> 265\u001b[0;31m     \u001b[0munique\u001b[0m \u001b[0;34m=\u001b[0m \u001b[0mget_unique_rows\u001b[0m\u001b[0;34m(\u001b[0m\u001b[0mX\u001b[0m\u001b[0;34m)\u001b[0m\u001b[0;34m\u001b[0m\u001b[0m\n\u001b[0m\u001b[1;32m    266\u001b[0m     \u001b[0mn_unique\u001b[0m \u001b[0;34m=\u001b[0m \u001b[0munique\u001b[0m\u001b[0;34m.\u001b[0m\u001b[0mshape\u001b[0m\u001b[0;34m[\u001b[0m\u001b[0;36m0\u001b[0m\u001b[0;34m]\u001b[0m\u001b[0;34m\u001b[0m\u001b[0m\n\u001b[1;32m    267\u001b[0m     \u001b[0;32mif\u001b[0m \u001b[0mn_unique\u001b[0m \u001b[0;34m<=\u001b[0m \u001b[0mn_clusters\u001b[0m\u001b[0;34m:\u001b[0m\u001b[0;34m\u001b[0m\u001b[0m\n",
      "\u001b[0;32m/opt/conda/lib/python3.6/site-packages/kmodes/util/__init__.py\u001b[0m in \u001b[0;36mget_unique_rows\u001b[0;34m(a)\u001b[0m\n\u001b[1;32m     66\u001b[0m \u001b[0;32mdef\u001b[0m \u001b[0mget_unique_rows\u001b[0m\u001b[0;34m(\u001b[0m\u001b[0ma\u001b[0m\u001b[0;34m)\u001b[0m\u001b[0;34m:\u001b[0m\u001b[0;34m\u001b[0m\u001b[0m\n\u001b[1;32m     67\u001b[0m     \u001b[0;34m\"\"\"Gets the unique rows in a numpy array.\"\"\"\u001b[0m\u001b[0;34m\u001b[0m\u001b[0m\n\u001b[0;32m---> 68\u001b[0;31m     \u001b[0;32mreturn\u001b[0m \u001b[0mnp\u001b[0m\u001b[0;34m.\u001b[0m\u001b[0mvstack\u001b[0m\u001b[0;34m(\u001b[0m\u001b[0mlist\u001b[0m\u001b[0;34m(\u001b[0m\u001b[0;34m{\u001b[0m\u001b[0mtuple\u001b[0m\u001b[0;34m(\u001b[0m\u001b[0mrow\u001b[0m\u001b[0;34m)\u001b[0m \u001b[0;32mfor\u001b[0m \u001b[0mrow\u001b[0m \u001b[0;32min\u001b[0m \u001b[0ma\u001b[0m\u001b[0;34m}\u001b[0m\u001b[0;34m)\u001b[0m\u001b[0;34m)\u001b[0m\u001b[0;34m\u001b[0m\u001b[0m\n\u001b[0m",
      "\u001b[0;31mKeyboardInterrupt\u001b[0m: "
     ]
    }
   ],
   "source": [
    "!pip install kmodes\n",
    "\n",
    "from kmodes.kmodes import KModes\n",
    "km = KModes(n_clusters=5, init='Huang', n_init=1, verbose=2)\n",
    "km.fit(pop_data)\n",
    "\n",
    "# Print the cluster centroids\n",
    "#print(km.cluster_centroids_)"
   ]
  },
  {
   "cell_type": "code",
   "execution_count": null,
   "metadata": {},
   "outputs": [],
   "source": []
  },
  {
   "cell_type": "markdown",
   "metadata": {},
   "source": [
    "## Part 2: Supervised Learning Model\n",
    "\n",
    "Now that you've found which parts of the population are more likely to be customers of the mail-order company, it's time to build a prediction model. Each of the rows in the \"MAILOUT\" data files represents an individual that was targeted for a mailout campaign. Ideally, we should be able to use the demographic information from each individual to decide whether or not it will be worth it to include that person in the campaign.\n",
    "\n",
    "The \"MAILOUT\" data has been split into two approximately equal parts, each with almost 43 000 data rows. In this part, you can verify your model with the \"TRAIN\" partition, which includes a column, \"RESPONSE\", that states whether or not a person became a customer of the company following the campaign. In the next part, you'll need to create predictions on the \"TEST\" partition, where the \"RESPONSE\" column has been withheld."
   ]
  },
  {
   "cell_type": "code",
   "execution_count": 116,
   "metadata": {},
   "outputs": [
    {
     "name": "stderr",
     "output_type": "stream",
     "text": [
      "/opt/conda/lib/python3.6/site-packages/IPython/core/interactiveshell.py:2785: DtypeWarning: Columns (18,19) have mixed types. Specify dtype option on import or set low_memory=False.\n",
      "  interactivity=interactivity, compiler=compiler, result=result)\n"
     ]
    }
   ],
   "source": [
    "mailout_train = pd.read_csv('../../data/Term2/capstone/arvato_data/Udacity_MAILOUT_052018_TRAIN.csv', sep=';')"
   ]
  },
  {
   "cell_type": "code",
   "execution_count": 147,
   "metadata": {},
   "outputs": [
    {
     "data": {
      "text/html": [
       "<div>\n",
       "<style scoped>\n",
       "    .dataframe tbody tr th:only-of-type {\n",
       "        vertical-align: middle;\n",
       "    }\n",
       "\n",
       "    .dataframe tbody tr th {\n",
       "        vertical-align: top;\n",
       "    }\n",
       "\n",
       "    .dataframe thead th {\n",
       "        text-align: right;\n",
       "    }\n",
       "</style>\n",
       "<table border=\"1\" class=\"dataframe\">\n",
       "  <thead>\n",
       "    <tr style=\"text-align: right;\">\n",
       "      <th></th>\n",
       "      <th>D19_KONSUMTYP_MAX</th>\n",
       "      <th>LP_LEBENSPHASE_FEIN</th>\n",
       "      <th>CJT_TYP_5</th>\n",
       "      <th>CJT_TYP_6</th>\n",
       "      <th>LP_LEBENSPHASE_GROB</th>\n",
       "      <th>CJT_TYP_3</th>\n",
       "      <th>LP_STATUS_FEIN</th>\n",
       "      <th>CJT_TYP_4</th>\n",
       "      <th>KOMBIALTER</th>\n",
       "      <th>HH_EINKOMMEN_SCORE</th>\n",
       "      <th>...</th>\n",
       "      <th>D19_VERSI_ANZ_24</th>\n",
       "      <th>D19_TIERARTIKEL</th>\n",
       "      <th>D19_TELKO_ANZ_24</th>\n",
       "      <th>D19_VERSI_ANZ_12</th>\n",
       "      <th>D19_BANKEN_REST</th>\n",
       "      <th>D19_BANKEN_LOKAL</th>\n",
       "      <th>D19_TELKO_ANZ_12</th>\n",
       "      <th>D19_DIGIT_SERV</th>\n",
       "      <th>D19_VERSI_ONLINE_DATUM</th>\n",
       "      <th>D19_TELKO_ONLINE_DATUM</th>\n",
       "    </tr>\n",
       "  </thead>\n",
       "  <tbody>\n",
       "    <tr>\n",
       "      <th>0</th>\n",
       "      <td>2</td>\n",
       "      <td>8.0</td>\n",
       "      <td>5.0</td>\n",
       "      <td>5.0</td>\n",
       "      <td>2.0</td>\n",
       "      <td>5.0</td>\n",
       "      <td>3.0</td>\n",
       "      <td>5.0</td>\n",
       "      <td>4</td>\n",
       "      <td>6.0</td>\n",
       "      <td>...</td>\n",
       "      <td>0</td>\n",
       "      <td>0</td>\n",
       "      <td>0</td>\n",
       "      <td>0</td>\n",
       "      <td>0</td>\n",
       "      <td>0</td>\n",
       "      <td>0</td>\n",
       "      <td>0</td>\n",
       "      <td>10</td>\n",
       "      <td>10</td>\n",
       "    </tr>\n",
       "    <tr>\n",
       "      <th>1</th>\n",
       "      <td>4</td>\n",
       "      <td>19.0</td>\n",
       "      <td>5.0</td>\n",
       "      <td>4.0</td>\n",
       "      <td>5.0</td>\n",
       "      <td>4.0</td>\n",
       "      <td>9.0</td>\n",
       "      <td>3.0</td>\n",
       "      <td>4</td>\n",
       "      <td>1.0</td>\n",
       "      <td>...</td>\n",
       "      <td>0</td>\n",
       "      <td>6</td>\n",
       "      <td>1</td>\n",
       "      <td>0</td>\n",
       "      <td>0</td>\n",
       "      <td>3</td>\n",
       "      <td>1</td>\n",
       "      <td>0</td>\n",
       "      <td>10</td>\n",
       "      <td>10</td>\n",
       "    </tr>\n",
       "    <tr>\n",
       "      <th>2</th>\n",
       "      <td>2</td>\n",
       "      <td>0.0</td>\n",
       "      <td>5.0</td>\n",
       "      <td>5.0</td>\n",
       "      <td>0.0</td>\n",
       "      <td>5.0</td>\n",
       "      <td>10.0</td>\n",
       "      <td>5.0</td>\n",
       "      <td>4</td>\n",
       "      <td>1.0</td>\n",
       "      <td>...</td>\n",
       "      <td>0</td>\n",
       "      <td>0</td>\n",
       "      <td>0</td>\n",
       "      <td>0</td>\n",
       "      <td>5</td>\n",
       "      <td>0</td>\n",
       "      <td>0</td>\n",
       "      <td>0</td>\n",
       "      <td>10</td>\n",
       "      <td>10</td>\n",
       "    </tr>\n",
       "    <tr>\n",
       "      <th>3</th>\n",
       "      <td>2</td>\n",
       "      <td>16.0</td>\n",
       "      <td>5.0</td>\n",
       "      <td>4.0</td>\n",
       "      <td>4.0</td>\n",
       "      <td>5.0</td>\n",
       "      <td>3.0</td>\n",
       "      <td>5.0</td>\n",
       "      <td>4</td>\n",
       "      <td>4.0</td>\n",
       "      <td>...</td>\n",
       "      <td>0</td>\n",
       "      <td>0</td>\n",
       "      <td>0</td>\n",
       "      <td>0</td>\n",
       "      <td>0</td>\n",
       "      <td>0</td>\n",
       "      <td>0</td>\n",
       "      <td>0</td>\n",
       "      <td>10</td>\n",
       "      <td>10</td>\n",
       "    </tr>\n",
       "    <tr>\n",
       "      <th>4</th>\n",
       "      <td>2</td>\n",
       "      <td>9.0</td>\n",
       "      <td>5.0</td>\n",
       "      <td>5.0</td>\n",
       "      <td>3.0</td>\n",
       "      <td>5.0</td>\n",
       "      <td>6.0</td>\n",
       "      <td>5.0</td>\n",
       "      <td>4</td>\n",
       "      <td>4.0</td>\n",
       "      <td>...</td>\n",
       "      <td>0</td>\n",
       "      <td>0</td>\n",
       "      <td>0</td>\n",
       "      <td>0</td>\n",
       "      <td>0</td>\n",
       "      <td>0</td>\n",
       "      <td>0</td>\n",
       "      <td>0</td>\n",
       "      <td>10</td>\n",
       "      <td>10</td>\n",
       "    </tr>\n",
       "  </tbody>\n",
       "</table>\n",
       "<p>5 rows × 105 columns</p>\n",
       "</div>"
      ],
      "text/plain": [
       "   D19_KONSUMTYP_MAX  LP_LEBENSPHASE_FEIN  CJT_TYP_5  CJT_TYP_6  \\\n",
       "0                  2                  8.0        5.0        5.0   \n",
       "1                  4                 19.0        5.0        4.0   \n",
       "2                  2                  0.0        5.0        5.0   \n",
       "3                  2                 16.0        5.0        4.0   \n",
       "4                  2                  9.0        5.0        5.0   \n",
       "\n",
       "   LP_LEBENSPHASE_GROB  CJT_TYP_3  LP_STATUS_FEIN  CJT_TYP_4  KOMBIALTER  \\\n",
       "0                  2.0        5.0             3.0        5.0           4   \n",
       "1                  5.0        4.0             9.0        3.0           4   \n",
       "2                  0.0        5.0            10.0        5.0           4   \n",
       "3                  4.0        5.0             3.0        5.0           4   \n",
       "4                  3.0        5.0             6.0        5.0           4   \n",
       "\n",
       "   HH_EINKOMMEN_SCORE           ...            D19_VERSI_ANZ_24  \\\n",
       "0                 6.0           ...                           0   \n",
       "1                 1.0           ...                           0   \n",
       "2                 1.0           ...                           0   \n",
       "3                 4.0           ...                           0   \n",
       "4                 4.0           ...                           0   \n",
       "\n",
       "   D19_TIERARTIKEL  D19_TELKO_ANZ_24  D19_VERSI_ANZ_12  D19_BANKEN_REST  \\\n",
       "0                0                 0                 0                0   \n",
       "1                6                 1                 0                0   \n",
       "2                0                 0                 0                5   \n",
       "3                0                 0                 0                0   \n",
       "4                0                 0                 0                0   \n",
       "\n",
       "   D19_BANKEN_LOKAL  D19_TELKO_ANZ_12  D19_DIGIT_SERV  D19_VERSI_ONLINE_DATUM  \\\n",
       "0                 0                 0               0                      10   \n",
       "1                 3                 1               0                      10   \n",
       "2                 0                 0               0                      10   \n",
       "3                 0                 0               0                      10   \n",
       "4                 0                 0               0                      10   \n",
       "\n",
       "   D19_TELKO_ONLINE_DATUM  \n",
       "0                      10  \n",
       "1                      10  \n",
       "2                      10  \n",
       "3                      10  \n",
       "4                      10  \n",
       "\n",
       "[5 rows x 105 columns]"
      ]
     },
     "execution_count": 147,
     "metadata": {},
     "output_type": "execute_result"
    }
   ],
   "source": [
    "columns_reduced = [n for n in target_corr_names if n not in ['label', 'GEBURTSJAHR_imputed', 'has_birth_year']] #k_modes_features # + ['GEBURTSJAHR']\n",
    "mailout_train_reduced = mailout_train[columns_reduced].copy()\n",
    "y = mailout_train['RESPONSE'].copy()\n",
    "\n",
    "#### augment #####\n",
    "aug = cust_t_red_imp[columns_reduced].copy()\n",
    "y = np.hstack((y.values, np.ones(len(aug))))\n",
    "aug = pd.concat((mailout_train_reduced, aug), axis=0)\n",
    "\n",
    "mailout_train_reduced.head()"
   ]
  },
  {
   "cell_type": "code",
   "execution_count": 126,
   "metadata": {},
   "outputs": [
    {
     "name": "stdout",
     "output_type": "stream",
     "text": [
      "42430.0\n",
      "188971.0\n"
     ]
    }
   ],
   "source": [
    "print(len(y)-np.sum(y))\n",
    "print(np.sum(y))"
   ]
  },
  {
   "cell_type": "code",
   "execution_count": 111,
   "metadata": {},
   "outputs": [
    {
     "name": "stdout",
     "output_type": "stream",
     "text": [
      "Collecting xgboost\n",
      "\u001b[?25l  Downloading https://files.pythonhosted.org/packages/70/91/551d37ba472bcbd70a25e667acc65a18a9d053657b13afcf0f87aa24d7bb/xgboost-1.0.2-py3-none-manylinux1_x86_64.whl (109.7MB)\n",
      "\u001b[K    100% |████████████████████████████████| 109.8MB 232kB/s eta 0:00:01 7% |██▌                             | 8.7MB 32.1MB/s eta 0:00:04    19% |██████                          | 20.9MB 30.7MB/s eta 0:00:03    31% |██████████▏                     | 34.9MB 27.6MB/s eta 0:00:03    36% |███████████▊                    | 40.1MB 25.5MB/s eta 0:00:03    37% |████████████                    | 41.2MB 25.2MB/s eta 0:00:03    38% |████████████▍                   | 42.4MB 26.4MB/s eta 0:00:03    39% |████████████▊                   | 43.7MB 26.0MB/s eta 0:00:03    40% |█████████████                   | 45.0MB 26.3MB/s eta 0:00:03    42% |█████████████▌                  | 46.2MB 26.1MB/s eta 0:00:03    46% |██████████████▉                 | 51.0MB 25.6MB/s eta 0:00:03    51% |████████████████▌               | 56.8MB 21.8MB/s eta 0:00:03    57% |██████████████████▎             | 62.7MB 24.6MB/s eta 0:00:02    59% |███████████████████             | 65.1MB 23.5MB/s eta 0:00:02    61% |███████████████████▋            | 67.4MB 24.5MB/s eta 0:00:02    64% |████████████████████▋           | 70.7MB 22.5MB/s eta 0:00:02    65% |█████████████████████           | 71.8MB 20.0MB/s eta 0:00:02    66% |█████████████████████▎          | 72.9MB 23.5MB/s eta 0:00:02    67% |█████████████████████▋          | 74.0MB 22.3MB/s eta 0:00:02    68% |██████████████████████          | 75.1MB 21.2MB/s eta 0:00:02    71% |██████████████████████▉         | 78.3MB 21.1MB/s eta 0:00:02    73% |███████████████████████▌        | 80.4MB 21.3MB/s eta 0:00:02    74% |███████████████████████▊        | 81.5MB 22.4MB/s eta 0:00:02    76% |████████████████████████▍       | 83.6MB 22.1MB/s eta 0:00:02    77% |████████████████████████▊       | 84.6MB 21.5MB/s eta 0:00:02    81% |██████████████████████████      | 88.9MB 23.1MB/s eta 0:00:01    86% |███████████████████████████▊    | 95.2MB 21.0MB/s eta 0:00:01    90% |█████████████████████████████   | 99.3MB 20.8MB/s eta 0:00:01    92% |█████████████████████████████▋  | 101.4MB 20.1MB/s eta 0:00:01    93% |█████████████████████████████▉  | 102.4MB 20.4MB/s eta 0:00:01    94% |██████████████████████████████▍ | 104.2MB 18.3MB/s eta 0:00:01    96% |███████████████████████████████ | 106.2MB 20.9MB/s eta 0:00:01    98% |███████████████████████████████▌| 108.2MB 20.2MB/s eta 0:00:01    99% |███████████████████████████████▉| 109.2MB 22.0MB/s eta 0:00:01\n",
      "\u001b[?25hRequirement already satisfied: scipy in /opt/conda/lib/python3.6/site-packages (from xgboost) (1.2.1)\n",
      "Requirement already satisfied: numpy in /opt/conda/lib/python3.6/site-packages (from xgboost) (1.12.1)\n",
      "Installing collected packages: xgboost\n",
      "Successfully installed xgboost-1.0.2\n"
     ]
    }
   ],
   "source": [
    "!pip install xgboost"
   ]
  },
  {
   "cell_type": "code",
   "execution_count": 148,
   "metadata": {},
   "outputs": [
    {
     "name": "stdout",
     "output_type": "stream",
     "text": [
      "Fitting 5 folds for each of 2 candidates, totalling 10 fits\n",
      "[CV] alpha=1, colsample_bynode=1, max_depth=3 ........................\n",
      "[CV] ......... alpha=1, colsample_bynode=1, max_depth=3, total= 1.2min\n",
      "[CV] alpha=1, colsample_bynode=1, max_depth=3 ........................\n"
     ]
    },
    {
     "name": "stderr",
     "output_type": "stream",
     "text": [
      "[Parallel(n_jobs=-1)]: Done   1 out of   1 | elapsed:  1.3min remaining:    0.0s\n"
     ]
    },
    {
     "name": "stdout",
     "output_type": "stream",
     "text": [
      "[CV] ......... alpha=1, colsample_bynode=1, max_depth=3, total= 1.2min\n",
      "[CV] alpha=1, colsample_bynode=1, max_depth=3 ........................\n",
      "[CV] ......... alpha=1, colsample_bynode=1, max_depth=3, total= 1.2min\n",
      "[CV] alpha=1, colsample_bynode=1, max_depth=3 ........................\n",
      "[CV] ......... alpha=1, colsample_bynode=1, max_depth=3, total= 1.2min\n",
      "[CV] alpha=1, colsample_bynode=1, max_depth=3 ........................\n",
      "[CV] ......... alpha=1, colsample_bynode=1, max_depth=3, total= 1.2min\n",
      "[CV] alpha=1, colsample_bynode=1, max_depth=6 ........................\n",
      "[CV] ......... alpha=1, colsample_bynode=1, max_depth=6, total= 2.2min\n",
      "[CV] alpha=1, colsample_bynode=1, max_depth=6 ........................\n",
      "[CV] ......... alpha=1, colsample_bynode=1, max_depth=6, total= 2.2min\n",
      "[CV] alpha=1, colsample_bynode=1, max_depth=6 ........................\n",
      "[CV] ......... alpha=1, colsample_bynode=1, max_depth=6, total= 2.2min\n",
      "[CV] alpha=1, colsample_bynode=1, max_depth=6 ........................\n",
      "[CV] ......... alpha=1, colsample_bynode=1, max_depth=6, total= 2.2min\n",
      "[CV] alpha=1, colsample_bynode=1, max_depth=6 ........................\n",
      "[CV] ......... alpha=1, colsample_bynode=1, max_depth=6, total= 2.2min\n"
     ]
    },
    {
     "name": "stderr",
     "output_type": "stream",
     "text": [
      "[Parallel(n_jobs=-1)]: Done  10 out of  10 | elapsed: 17.4min finished\n"
     ]
    },
    {
     "data": {
      "text/plain": [
       "GridSearchCV(cv=5, error_score='raise',\n",
       "       estimator=XGBClassifier(base_score=None, booster=None, colsample_bylevel=None,\n",
       "       colsample_bynode=None, colsample_bytree=None, gamma=None,\n",
       "       gpu_id=None, importance_type='gain', interaction_constraints=None,\n",
       "       learning_rate=None, max_delta_step=None, max_depth=None,\n",
       "       min_child_w...80646765905,\n",
       "       subsample=None, tree_method=None, validate_parameters=False,\n",
       "       verbosity=1),\n",
       "       fit_params=None, iid=True, n_jobs=-1,\n",
       "       param_grid={'max_depth': [3, 6], 'colsample_bynode': [1], 'alpha': [1]},\n",
       "       pre_dispatch='2*n_jobs', refit=True, return_train_score='warn',\n",
       "       scoring='roc_auc', verbose=2)"
      ]
     },
     "execution_count": 148,
     "metadata": {},
     "output_type": "execute_result"
    }
   ],
   "source": [
    "from sklearn.ensemble import RandomForestClassifier as RFC\n",
    "from xgboost import XGBClassifier as GBC\n",
    "from sklearn.model_selection import GridSearchCV as GSCV\n",
    "weight = 42430/188971.0\n",
    "weights = np.ones(len(y))\n",
    "weights[y==1] = weight\n",
    "\n",
    "#param_grid = {'max_depth':[25],\n",
    "#              'max_features':[None, 'sqrt'],\n",
    "#              'min_samples_leaf':[1,5],\n",
    "#              'n_estimators': [100]}\n",
    "#grid_search = GSCV(RFC(class_weight='balanced_subsample'), \n",
    "#                   param_grid, scoring='roc_auc',\n",
    "#                   verbose=2, cv=5, n_jobs=-1, \n",
    "#                   )\n",
    "\n",
    "param_grid = {'max_depth':[3,6],\n",
    "              'colsample_bynode': [1],\n",
    "              'alpha': [1]}\n",
    "grid_search = GSCV(GBC(scale_pos_weight=weight,\n",
    "                       verbosity=1), \n",
    "                  param_grid, scoring='roc_auc',\n",
    "                  verbose=2, cv=5, n_jobs=-1, \n",
    "                  )\n",
    "\n",
    "grid_search.fit(aug, y)"
   ]
  },
  {
   "cell_type": "code",
   "execution_count": 149,
   "metadata": {},
   "outputs": [
    {
     "name": "stdout",
     "output_type": "stream",
     "text": [
      "[ 0.75363452  0.75208028]\n",
      "XGBClassifier(alpha=1, base_score=0.5, booster=None, colsample_bylevel=1,\n",
      "       colsample_bynode=1, colsample_bytree=1, gamma=0, gpu_id=-1,\n",
      "       importance_type='gain', interaction_constraints=None,\n",
      "       learning_rate=0.300000012, max_delta_step=0, max_depth=3,\n",
      "       min_child_weight=1, missing=nan, monotone_constraints=None,\n",
      "       n_estimators=100, n_jobs=0, num_parallel_tree=1,\n",
      "       objective='binary:logistic', random_state=0, reg_alpha=1,\n",
      "       reg_lambda=1, scale_pos_weight=0.22453180646765905, subsample=1,\n",
      "       tree_method=None, validate_parameters=False, verbosity=1)\n"
     ]
    }
   ],
   "source": [
    "print(grid_search.cv_results_['mean_test_score'])\n",
    "print(grid_search.best_estimator_)\n",
    "train_preds = grid_search.predict_proba(aug)[:,1]"
   ]
  },
  {
   "cell_type": "code",
   "execution_count": 150,
   "metadata": {},
   "outputs": [
    {
     "name": "stdout",
     "output_type": "stream",
     "text": [
      "0.764130079252\n"
     ]
    }
   ],
   "source": [
    "from sklearn.metrics import roc_auc_score\n",
    "print(roc_auc_score(y, train_preds, sample_weight=weights))"
   ]
  },
  {
   "cell_type": "code",
   "execution_count": 159,
   "metadata": {},
   "outputs": [
    {
     "ename": "ValueError",
     "evalue": "Input contains NaN, infinity or a value too large for dtype('float64').",
     "output_type": "error",
     "traceback": [
      "\u001b[0;31m---------------------------------------------------------------------------\u001b[0m",
      "\u001b[0;31mValueError\u001b[0m                                Traceback (most recent call last)",
      "\u001b[0;32m<ipython-input-159-2ae7e328401d>\u001b[0m in \u001b[0;36m<module>\u001b[0;34m()\u001b[0m\n\u001b[0;32m----> 1\u001b[0;31m \u001b[0mnb\u001b[0m\u001b[0;34m.\u001b[0m\u001b[0mfit\u001b[0m\u001b[0;34m(\u001b[0m\u001b[0maug\u001b[0m\u001b[0;34m.\u001b[0m\u001b[0mvalues\u001b[0m\u001b[0;34m,\u001b[0m \u001b[0my\u001b[0m\u001b[0;34m)\u001b[0m\u001b[0;34m\u001b[0m\u001b[0m\n\u001b[0m\u001b[1;32m      2\u001b[0m \u001b[0mpred_score\u001b[0m \u001b[0;34m=\u001b[0m \u001b[0mnb\u001b[0m\u001b[0;34m.\u001b[0m\u001b[0mpredict_proba\u001b[0m\u001b[0;34m(\u001b[0m\u001b[0maug\u001b[0m\u001b[0;34m.\u001b[0m\u001b[0mvalues\u001b[0m\u001b[0;34m)\u001b[0m\u001b[0;34m[\u001b[0m\u001b[0;34m:\u001b[0m\u001b[0;34m,\u001b[0m\u001b[0;36m1\u001b[0m\u001b[0;34m]\u001b[0m\u001b[0;34m\u001b[0m\u001b[0m\n\u001b[1;32m      3\u001b[0m \u001b[0mprint\u001b[0m\u001b[0;34m(\u001b[0m\u001b[0mroc_auc_score\u001b[0m\u001b[0;34m(\u001b[0m\u001b[0my\u001b[0m\u001b[0;34m,\u001b[0m \u001b[0mpred_score\u001b[0m\u001b[0;34m,\u001b[0m \u001b[0msample_weight\u001b[0m\u001b[0;34m=\u001b[0m\u001b[0mweights\u001b[0m\u001b[0;34m)\u001b[0m\u001b[0;34m)\u001b[0m\u001b[0;34m\u001b[0m\u001b[0m\n",
      "\u001b[0;32m/opt/conda/lib/python3.6/site-packages/sklearn/naive_bayes.py\u001b[0m in \u001b[0;36mfit\u001b[0;34m(self, X, y, sample_weight)\u001b[0m\n\u001b[1;32m    577\u001b[0m             \u001b[0mReturns\u001b[0m \u001b[0mself\u001b[0m\u001b[0;34m.\u001b[0m\u001b[0;34m\u001b[0m\u001b[0m\n\u001b[1;32m    578\u001b[0m         \"\"\"\n\u001b[0;32m--> 579\u001b[0;31m         \u001b[0mX\u001b[0m\u001b[0;34m,\u001b[0m \u001b[0my\u001b[0m \u001b[0;34m=\u001b[0m \u001b[0mcheck_X_y\u001b[0m\u001b[0;34m(\u001b[0m\u001b[0mX\u001b[0m\u001b[0;34m,\u001b[0m \u001b[0my\u001b[0m\u001b[0;34m,\u001b[0m \u001b[0;34m'csr'\u001b[0m\u001b[0;34m)\u001b[0m\u001b[0;34m\u001b[0m\u001b[0m\n\u001b[0m\u001b[1;32m    580\u001b[0m         \u001b[0m_\u001b[0m\u001b[0;34m,\u001b[0m \u001b[0mn_features\u001b[0m \u001b[0;34m=\u001b[0m \u001b[0mX\u001b[0m\u001b[0;34m.\u001b[0m\u001b[0mshape\u001b[0m\u001b[0;34m\u001b[0m\u001b[0m\n\u001b[1;32m    581\u001b[0m \u001b[0;34m\u001b[0m\u001b[0m\n",
      "\u001b[0;32m/opt/conda/lib/python3.6/site-packages/sklearn/utils/validation.py\u001b[0m in \u001b[0;36mcheck_X_y\u001b[0;34m(X, y, accept_sparse, dtype, order, copy, force_all_finite, ensure_2d, allow_nd, multi_output, ensure_min_samples, ensure_min_features, y_numeric, warn_on_dtype, estimator)\u001b[0m\n\u001b[1;32m    571\u001b[0m     X = check_array(X, accept_sparse, dtype, order, copy, force_all_finite,\n\u001b[1;32m    572\u001b[0m                     \u001b[0mensure_2d\u001b[0m\u001b[0;34m,\u001b[0m \u001b[0mallow_nd\u001b[0m\u001b[0;34m,\u001b[0m \u001b[0mensure_min_samples\u001b[0m\u001b[0;34m,\u001b[0m\u001b[0;34m\u001b[0m\u001b[0m\n\u001b[0;32m--> 573\u001b[0;31m                     ensure_min_features, warn_on_dtype, estimator)\n\u001b[0m\u001b[1;32m    574\u001b[0m     \u001b[0;32mif\u001b[0m \u001b[0mmulti_output\u001b[0m\u001b[0;34m:\u001b[0m\u001b[0;34m\u001b[0m\u001b[0m\n\u001b[1;32m    575\u001b[0m         y = check_array(y, 'csr', force_all_finite=True, ensure_2d=False,\n",
      "\u001b[0;32m/opt/conda/lib/python3.6/site-packages/sklearn/utils/validation.py\u001b[0m in \u001b[0;36mcheck_array\u001b[0;34m(array, accept_sparse, dtype, order, copy, force_all_finite, ensure_2d, allow_nd, ensure_min_samples, ensure_min_features, warn_on_dtype, estimator)\u001b[0m\n\u001b[1;32m    451\u001b[0m                              % (array.ndim, estimator_name))\n\u001b[1;32m    452\u001b[0m         \u001b[0;32mif\u001b[0m \u001b[0mforce_all_finite\u001b[0m\u001b[0;34m:\u001b[0m\u001b[0;34m\u001b[0m\u001b[0m\n\u001b[0;32m--> 453\u001b[0;31m             \u001b[0m_assert_all_finite\u001b[0m\u001b[0;34m(\u001b[0m\u001b[0marray\u001b[0m\u001b[0;34m)\u001b[0m\u001b[0;34m\u001b[0m\u001b[0m\n\u001b[0m\u001b[1;32m    454\u001b[0m \u001b[0;34m\u001b[0m\u001b[0m\n\u001b[1;32m    455\u001b[0m     \u001b[0mshape_repr\u001b[0m \u001b[0;34m=\u001b[0m \u001b[0m_shape_repr\u001b[0m\u001b[0;34m(\u001b[0m\u001b[0marray\u001b[0m\u001b[0;34m.\u001b[0m\u001b[0mshape\u001b[0m\u001b[0;34m)\u001b[0m\u001b[0;34m\u001b[0m\u001b[0m\n",
      "\u001b[0;32m/opt/conda/lib/python3.6/site-packages/sklearn/utils/validation.py\u001b[0m in \u001b[0;36m_assert_all_finite\u001b[0;34m(X)\u001b[0m\n\u001b[1;32m     42\u001b[0m             and not np.isfinite(X).all()):\n\u001b[1;32m     43\u001b[0m         raise ValueError(\"Input contains NaN, infinity\"\n\u001b[0;32m---> 44\u001b[0;31m                          \" or a value too large for %r.\" % X.dtype)\n\u001b[0m\u001b[1;32m     45\u001b[0m \u001b[0;34m\u001b[0m\u001b[0m\n\u001b[1;32m     46\u001b[0m \u001b[0;34m\u001b[0m\u001b[0m\n",
      "\u001b[0;31mValueError\u001b[0m: Input contains NaN, infinity or a value too large for dtype('float64')."
     ]
    }
   ],
   "source": [
    "nb.fit(aug.values, y)\n",
    "pred_score = nb.predict_proba(aug.values)[:,1]\n",
    "print(roc_auc_score(y, pred_score, sample_weight=weights))"
   ]
  },
  {
   "cell_type": "code",
   "execution_count": 160,
   "metadata": {},
   "outputs": [
    {
     "data": {
      "text/plain": [
       "False"
      ]
     },
     "execution_count": 160,
     "metadata": {},
     "output_type": "execute_result"
    }
   ],
   "source": [
    "np.isfinite(aug.values).all()"
   ]
  },
  {
   "cell_type": "markdown",
   "metadata": {},
   "source": [
    "## Part 3: Kaggle Competition\n",
    "\n",
    "Now that you've created a model to predict which individuals are most likely to respond to a mailout campaign, it's time to test that model in competition through Kaggle. If you click on the link [here](http://www.kaggle.com/t/21e6d45d4c574c7fa2d868f0e8c83140), you'll be taken to the competition page where, if you have a Kaggle account, you can enter. If you're one of the top performers, you may have the chance to be contacted by a hiring manager from Arvato or Bertelsmann for an interview!\n",
    "\n",
    "Your entry to the competition should be a CSV file with two columns. The first column should be a copy of \"LNR\", which acts as an ID number for each individual in the \"TEST\" partition. The second column, \"RESPONSE\", should be some measure of how likely each individual became a customer – this might not be a straightforward probability. As you should have found in Part 2, there is a large output class imbalance, where most individuals did not respond to the mailout. Thus, predicting individual classes and using accuracy does not seem to be an appropriate performance evaluation method. Instead, the competition will be using AUC to evaluate performance. The exact values of the \"RESPONSE\" column do not matter as much: only that the higher values try to capture as many of the actual customers as possible, early in the ROC curve sweep."
   ]
  },
  {
   "cell_type": "code",
   "execution_count": 151,
   "metadata": {},
   "outputs": [
    {
     "name": "stderr",
     "output_type": "stream",
     "text": [
      "/opt/conda/lib/python3.6/site-packages/IPython/core/interactiveshell.py:2785: DtypeWarning: Columns (18,19) have mixed types. Specify dtype option on import or set low_memory=False.\n",
      "  interactivity=interactivity, compiler=compiler, result=result)\n"
     ]
    }
   ],
   "source": [
    "mailout_test = pd.read_csv('../../data/Term2/capstone/arvato_data/Udacity_MAILOUT_052018_TEST.csv', sep=';')"
   ]
  },
  {
   "cell_type": "code",
   "execution_count": 152,
   "metadata": {},
   "outputs": [
    {
     "data": {
      "text/html": [
       "<div>\n",
       "<style scoped>\n",
       "    .dataframe tbody tr th:only-of-type {\n",
       "        vertical-align: middle;\n",
       "    }\n",
       "\n",
       "    .dataframe tbody tr th {\n",
       "        vertical-align: top;\n",
       "    }\n",
       "\n",
       "    .dataframe thead th {\n",
       "        text-align: right;\n",
       "    }\n",
       "</style>\n",
       "<table border=\"1\" class=\"dataframe\">\n",
       "  <thead>\n",
       "    <tr style=\"text-align: right;\">\n",
       "      <th></th>\n",
       "      <th>LNR</th>\n",
       "      <th>AGER_TYP</th>\n",
       "      <th>AKT_DAT_KL</th>\n",
       "      <th>ALTER_HH</th>\n",
       "      <th>ALTER_KIND1</th>\n",
       "      <th>ALTER_KIND2</th>\n",
       "      <th>ALTER_KIND3</th>\n",
       "      <th>ALTER_KIND4</th>\n",
       "      <th>ALTERSKATEGORIE_FEIN</th>\n",
       "      <th>ANZ_HAUSHALTE_AKTIV</th>\n",
       "      <th>...</th>\n",
       "      <th>VHN</th>\n",
       "      <th>VK_DHT4A</th>\n",
       "      <th>VK_DISTANZ</th>\n",
       "      <th>VK_ZG11</th>\n",
       "      <th>W_KEIT_KIND_HH</th>\n",
       "      <th>WOHNDAUER_2008</th>\n",
       "      <th>WOHNLAGE</th>\n",
       "      <th>ZABEOTYP</th>\n",
       "      <th>ANREDE_KZ</th>\n",
       "      <th>ALTERSKATEGORIE_GROB</th>\n",
       "    </tr>\n",
       "  </thead>\n",
       "  <tbody>\n",
       "    <tr>\n",
       "      <th>0</th>\n",
       "      <td>1754</td>\n",
       "      <td>2</td>\n",
       "      <td>1.0</td>\n",
       "      <td>7.0</td>\n",
       "      <td>NaN</td>\n",
       "      <td>NaN</td>\n",
       "      <td>NaN</td>\n",
       "      <td>NaN</td>\n",
       "      <td>6.0</td>\n",
       "      <td>2.0</td>\n",
       "      <td>...</td>\n",
       "      <td>4.0</td>\n",
       "      <td>5.0</td>\n",
       "      <td>6.0</td>\n",
       "      <td>3.0</td>\n",
       "      <td>6.0</td>\n",
       "      <td>9.0</td>\n",
       "      <td>3.0</td>\n",
       "      <td>3</td>\n",
       "      <td>1</td>\n",
       "      <td>4</td>\n",
       "    </tr>\n",
       "    <tr>\n",
       "      <th>1</th>\n",
       "      <td>1770</td>\n",
       "      <td>-1</td>\n",
       "      <td>1.0</td>\n",
       "      <td>0.0</td>\n",
       "      <td>NaN</td>\n",
       "      <td>NaN</td>\n",
       "      <td>NaN</td>\n",
       "      <td>NaN</td>\n",
       "      <td>0.0</td>\n",
       "      <td>20.0</td>\n",
       "      <td>...</td>\n",
       "      <td>1.0</td>\n",
       "      <td>5.0</td>\n",
       "      <td>2.0</td>\n",
       "      <td>1.0</td>\n",
       "      <td>6.0</td>\n",
       "      <td>9.0</td>\n",
       "      <td>5.0</td>\n",
       "      <td>3</td>\n",
       "      <td>1</td>\n",
       "      <td>4</td>\n",
       "    </tr>\n",
       "    <tr>\n",
       "      <th>2</th>\n",
       "      <td>1465</td>\n",
       "      <td>2</td>\n",
       "      <td>9.0</td>\n",
       "      <td>16.0</td>\n",
       "      <td>NaN</td>\n",
       "      <td>NaN</td>\n",
       "      <td>NaN</td>\n",
       "      <td>NaN</td>\n",
       "      <td>11.0</td>\n",
       "      <td>2.0</td>\n",
       "      <td>...</td>\n",
       "      <td>3.0</td>\n",
       "      <td>9.0</td>\n",
       "      <td>6.0</td>\n",
       "      <td>3.0</td>\n",
       "      <td>2.0</td>\n",
       "      <td>9.0</td>\n",
       "      <td>4.0</td>\n",
       "      <td>3</td>\n",
       "      <td>2</td>\n",
       "      <td>4</td>\n",
       "    </tr>\n",
       "    <tr>\n",
       "      <th>3</th>\n",
       "      <td>1470</td>\n",
       "      <td>-1</td>\n",
       "      <td>7.0</td>\n",
       "      <td>0.0</td>\n",
       "      <td>NaN</td>\n",
       "      <td>NaN</td>\n",
       "      <td>NaN</td>\n",
       "      <td>NaN</td>\n",
       "      <td>0.0</td>\n",
       "      <td>1.0</td>\n",
       "      <td>...</td>\n",
       "      <td>2.0</td>\n",
       "      <td>6.0</td>\n",
       "      <td>6.0</td>\n",
       "      <td>3.0</td>\n",
       "      <td>NaN</td>\n",
       "      <td>9.0</td>\n",
       "      <td>2.0</td>\n",
       "      <td>3</td>\n",
       "      <td>2</td>\n",
       "      <td>4</td>\n",
       "    </tr>\n",
       "    <tr>\n",
       "      <th>4</th>\n",
       "      <td>1478</td>\n",
       "      <td>1</td>\n",
       "      <td>1.0</td>\n",
       "      <td>21.0</td>\n",
       "      <td>NaN</td>\n",
       "      <td>NaN</td>\n",
       "      <td>NaN</td>\n",
       "      <td>NaN</td>\n",
       "      <td>13.0</td>\n",
       "      <td>1.0</td>\n",
       "      <td>...</td>\n",
       "      <td>1.0</td>\n",
       "      <td>2.0</td>\n",
       "      <td>4.0</td>\n",
       "      <td>3.0</td>\n",
       "      <td>3.0</td>\n",
       "      <td>9.0</td>\n",
       "      <td>7.0</td>\n",
       "      <td>4</td>\n",
       "      <td>2</td>\n",
       "      <td>4</td>\n",
       "    </tr>\n",
       "  </tbody>\n",
       "</table>\n",
       "<p>5 rows × 366 columns</p>\n",
       "</div>"
      ],
      "text/plain": [
       "    LNR  AGER_TYP  AKT_DAT_KL  ALTER_HH  ALTER_KIND1  ALTER_KIND2  \\\n",
       "0  1754         2         1.0       7.0          NaN          NaN   \n",
       "1  1770        -1         1.0       0.0          NaN          NaN   \n",
       "2  1465         2         9.0      16.0          NaN          NaN   \n",
       "3  1470        -1         7.0       0.0          NaN          NaN   \n",
       "4  1478         1         1.0      21.0          NaN          NaN   \n",
       "\n",
       "   ALTER_KIND3  ALTER_KIND4  ALTERSKATEGORIE_FEIN  ANZ_HAUSHALTE_AKTIV  \\\n",
       "0          NaN          NaN                   6.0                  2.0   \n",
       "1          NaN          NaN                   0.0                 20.0   \n",
       "2          NaN          NaN                  11.0                  2.0   \n",
       "3          NaN          NaN                   0.0                  1.0   \n",
       "4          NaN          NaN                  13.0                  1.0   \n",
       "\n",
       "          ...           VHN  VK_DHT4A  VK_DISTANZ  VK_ZG11  W_KEIT_KIND_HH  \\\n",
       "0         ...           4.0       5.0         6.0      3.0             6.0   \n",
       "1         ...           1.0       5.0         2.0      1.0             6.0   \n",
       "2         ...           3.0       9.0         6.0      3.0             2.0   \n",
       "3         ...           2.0       6.0         6.0      3.0             NaN   \n",
       "4         ...           1.0       2.0         4.0      3.0             3.0   \n",
       "\n",
       "   WOHNDAUER_2008  WOHNLAGE ZABEOTYP ANREDE_KZ ALTERSKATEGORIE_GROB  \n",
       "0             9.0       3.0        3         1                    4  \n",
       "1             9.0       5.0        3         1                    4  \n",
       "2             9.0       4.0        3         2                    4  \n",
       "3             9.0       2.0        3         2                    4  \n",
       "4             9.0       7.0        4         2                    4  \n",
       "\n",
       "[5 rows x 366 columns]"
      ]
     },
     "execution_count": 152,
     "metadata": {},
     "output_type": "execute_result"
    }
   ],
   "source": [
    "mailout_test.head()"
   ]
  },
  {
   "cell_type": "code",
   "execution_count": 153,
   "metadata": {},
   "outputs": [
    {
     "data": {
      "text/html": [
       "<div>\n",
       "<style scoped>\n",
       "    .dataframe tbody tr th:only-of-type {\n",
       "        vertical-align: middle;\n",
       "    }\n",
       "\n",
       "    .dataframe tbody tr th {\n",
       "        vertical-align: top;\n",
       "    }\n",
       "\n",
       "    .dataframe thead th {\n",
       "        text-align: right;\n",
       "    }\n",
       "</style>\n",
       "<table border=\"1\" class=\"dataframe\">\n",
       "  <thead>\n",
       "    <tr style=\"text-align: right;\">\n",
       "      <th></th>\n",
       "      <th>D19_KONSUMTYP_MAX</th>\n",
       "      <th>LP_LEBENSPHASE_FEIN</th>\n",
       "      <th>CJT_TYP_5</th>\n",
       "      <th>CJT_TYP_6</th>\n",
       "      <th>LP_LEBENSPHASE_GROB</th>\n",
       "      <th>CJT_TYP_3</th>\n",
       "      <th>LP_STATUS_FEIN</th>\n",
       "      <th>CJT_TYP_4</th>\n",
       "      <th>KOMBIALTER</th>\n",
       "      <th>HH_EINKOMMEN_SCORE</th>\n",
       "      <th>...</th>\n",
       "      <th>D19_VERSI_ANZ_24</th>\n",
       "      <th>D19_TIERARTIKEL</th>\n",
       "      <th>D19_TELKO_ANZ_24</th>\n",
       "      <th>D19_VERSI_ANZ_12</th>\n",
       "      <th>D19_BANKEN_REST</th>\n",
       "      <th>D19_BANKEN_LOKAL</th>\n",
       "      <th>D19_TELKO_ANZ_12</th>\n",
       "      <th>D19_DIGIT_SERV</th>\n",
       "      <th>D19_VERSI_ONLINE_DATUM</th>\n",
       "      <th>D19_TELKO_ONLINE_DATUM</th>\n",
       "    </tr>\n",
       "    <tr>\n",
       "      <th>LNR</th>\n",
       "      <th></th>\n",
       "      <th></th>\n",
       "      <th></th>\n",
       "      <th></th>\n",
       "      <th></th>\n",
       "      <th></th>\n",
       "      <th></th>\n",
       "      <th></th>\n",
       "      <th></th>\n",
       "      <th></th>\n",
       "      <th></th>\n",
       "      <th></th>\n",
       "      <th></th>\n",
       "      <th></th>\n",
       "      <th></th>\n",
       "      <th></th>\n",
       "      <th></th>\n",
       "      <th></th>\n",
       "      <th></th>\n",
       "      <th></th>\n",
       "      <th></th>\n",
       "    </tr>\n",
       "  </thead>\n",
       "  <tbody>\n",
       "    <tr>\n",
       "      <th>1754</th>\n",
       "      <td>2</td>\n",
       "      <td>20.0</td>\n",
       "      <td>5.0</td>\n",
       "      <td>5.0</td>\n",
       "      <td>5.0</td>\n",
       "      <td>5.0</td>\n",
       "      <td>10.0</td>\n",
       "      <td>5.0</td>\n",
       "      <td>4</td>\n",
       "      <td>4.0</td>\n",
       "      <td>...</td>\n",
       "      <td>0</td>\n",
       "      <td>0</td>\n",
       "      <td>0</td>\n",
       "      <td>0</td>\n",
       "      <td>0</td>\n",
       "      <td>0</td>\n",
       "      <td>0</td>\n",
       "      <td>0</td>\n",
       "      <td>10</td>\n",
       "      <td>10</td>\n",
       "    </tr>\n",
       "    <tr>\n",
       "      <th>1770</th>\n",
       "      <td>2</td>\n",
       "      <td>6.0</td>\n",
       "      <td>4.0</td>\n",
       "      <td>5.0</td>\n",
       "      <td>2.0</td>\n",
       "      <td>5.0</td>\n",
       "      <td>1.0</td>\n",
       "      <td>5.0</td>\n",
       "      <td>4</td>\n",
       "      <td>5.0</td>\n",
       "      <td>...</td>\n",
       "      <td>0</td>\n",
       "      <td>0</td>\n",
       "      <td>0</td>\n",
       "      <td>0</td>\n",
       "      <td>0</td>\n",
       "      <td>0</td>\n",
       "      <td>0</td>\n",
       "      <td>0</td>\n",
       "      <td>10</td>\n",
       "      <td>10</td>\n",
       "    </tr>\n",
       "    <tr>\n",
       "      <th>1465</th>\n",
       "      <td>8</td>\n",
       "      <td>40.0</td>\n",
       "      <td>5.0</td>\n",
       "      <td>5.0</td>\n",
       "      <td>12.0</td>\n",
       "      <td>5.0</td>\n",
       "      <td>10.0</td>\n",
       "      <td>5.0</td>\n",
       "      <td>4</td>\n",
       "      <td>5.0</td>\n",
       "      <td>...</td>\n",
       "      <td>0</td>\n",
       "      <td>0</td>\n",
       "      <td>0</td>\n",
       "      <td>0</td>\n",
       "      <td>0</td>\n",
       "      <td>0</td>\n",
       "      <td>0</td>\n",
       "      <td>0</td>\n",
       "      <td>10</td>\n",
       "      <td>10</td>\n",
       "    </tr>\n",
       "    <tr>\n",
       "      <th>1470</th>\n",
       "      <td>8</td>\n",
       "      <td>0.0</td>\n",
       "      <td>5.0</td>\n",
       "      <td>5.0</td>\n",
       "      <td>0.0</td>\n",
       "      <td>5.0</td>\n",
       "      <td>3.0</td>\n",
       "      <td>5.0</td>\n",
       "      <td>4</td>\n",
       "      <td>3.0</td>\n",
       "      <td>...</td>\n",
       "      <td>0</td>\n",
       "      <td>0</td>\n",
       "      <td>0</td>\n",
       "      <td>0</td>\n",
       "      <td>0</td>\n",
       "      <td>0</td>\n",
       "      <td>0</td>\n",
       "      <td>0</td>\n",
       "      <td>10</td>\n",
       "      <td>10</td>\n",
       "    </tr>\n",
       "    <tr>\n",
       "      <th>1478</th>\n",
       "      <td>1</td>\n",
       "      <td>37.0</td>\n",
       "      <td>4.0</td>\n",
       "      <td>3.0</td>\n",
       "      <td>12.0</td>\n",
       "      <td>4.0</td>\n",
       "      <td>9.0</td>\n",
       "      <td>4.0</td>\n",
       "      <td>4</td>\n",
       "      <td>4.0</td>\n",
       "      <td>...</td>\n",
       "      <td>1</td>\n",
       "      <td>7</td>\n",
       "      <td>1</td>\n",
       "      <td>0</td>\n",
       "      <td>6</td>\n",
       "      <td>0</td>\n",
       "      <td>0</td>\n",
       "      <td>0</td>\n",
       "      <td>9</td>\n",
       "      <td>9</td>\n",
       "    </tr>\n",
       "  </tbody>\n",
       "</table>\n",
       "<p>5 rows × 105 columns</p>\n",
       "</div>"
      ],
      "text/plain": [
       "      D19_KONSUMTYP_MAX  LP_LEBENSPHASE_FEIN  CJT_TYP_5  CJT_TYP_6  \\\n",
       "LNR                                                                  \n",
       "1754                  2                 20.0        5.0        5.0   \n",
       "1770                  2                  6.0        4.0        5.0   \n",
       "1465                  8                 40.0        5.0        5.0   \n",
       "1470                  8                  0.0        5.0        5.0   \n",
       "1478                  1                 37.0        4.0        3.0   \n",
       "\n",
       "      LP_LEBENSPHASE_GROB  CJT_TYP_3  LP_STATUS_FEIN  CJT_TYP_4  KOMBIALTER  \\\n",
       "LNR                                                                           \n",
       "1754                  5.0        5.0            10.0        5.0           4   \n",
       "1770                  2.0        5.0             1.0        5.0           4   \n",
       "1465                 12.0        5.0            10.0        5.0           4   \n",
       "1470                  0.0        5.0             3.0        5.0           4   \n",
       "1478                 12.0        4.0             9.0        4.0           4   \n",
       "\n",
       "      HH_EINKOMMEN_SCORE           ...            D19_VERSI_ANZ_24  \\\n",
       "LNR                                ...                               \n",
       "1754                 4.0           ...                           0   \n",
       "1770                 5.0           ...                           0   \n",
       "1465                 5.0           ...                           0   \n",
       "1470                 3.0           ...                           0   \n",
       "1478                 4.0           ...                           1   \n",
       "\n",
       "      D19_TIERARTIKEL  D19_TELKO_ANZ_24  D19_VERSI_ANZ_12  D19_BANKEN_REST  \\\n",
       "LNR                                                                          \n",
       "1754                0                 0                 0                0   \n",
       "1770                0                 0                 0                0   \n",
       "1465                0                 0                 0                0   \n",
       "1470                0                 0                 0                0   \n",
       "1478                7                 1                 0                6   \n",
       "\n",
       "      D19_BANKEN_LOKAL  D19_TELKO_ANZ_12  D19_DIGIT_SERV  \\\n",
       "LNR                                                        \n",
       "1754                 0                 0               0   \n",
       "1770                 0                 0               0   \n",
       "1465                 0                 0               0   \n",
       "1470                 0                 0               0   \n",
       "1478                 0                 0               0   \n",
       "\n",
       "      D19_VERSI_ONLINE_DATUM  D19_TELKO_ONLINE_DATUM  \n",
       "LNR                                                   \n",
       "1754                      10                      10  \n",
       "1770                      10                      10  \n",
       "1465                      10                      10  \n",
       "1470                      10                      10  \n",
       "1478                       9                       9  \n",
       "\n",
       "[5 rows x 105 columns]"
      ]
     },
     "execution_count": 153,
     "metadata": {},
     "output_type": "execute_result"
    }
   ],
   "source": [
    "mailout_test_reduced = mailout_test[columns_reduced].copy()\n",
    "mailout_test_reduced.index = mailout_test['LNR']\n",
    "mailout_test_reduced.head()"
   ]
  },
  {
   "cell_type": "code",
   "execution_count": 154,
   "metadata": {},
   "outputs": [],
   "source": [
    "test_preds = grid_search.predict_proba(mailout_test_reduced)[:,1]"
   ]
  },
  {
   "cell_type": "code",
   "execution_count": 155,
   "metadata": {},
   "outputs": [
    {
     "data": {
      "text/plain": [
       "array([ 0.77163678,  0.48192078,  0.14121535, ...,  0.58492297,\n",
       "        0.54257309,  0.59884381], dtype=float32)"
      ]
     },
     "execution_count": 155,
     "metadata": {},
     "output_type": "execute_result"
    }
   ],
   "source": [
    "test_preds"
   ]
  },
  {
   "cell_type": "code",
   "execution_count": 156,
   "metadata": {},
   "outputs": [
    {
     "data": {
      "text/html": [
       "<div>\n",
       "<style scoped>\n",
       "    .dataframe tbody tr th:only-of-type {\n",
       "        vertical-align: middle;\n",
       "    }\n",
       "\n",
       "    .dataframe tbody tr th {\n",
       "        vertical-align: top;\n",
       "    }\n",
       "\n",
       "    .dataframe thead th {\n",
       "        text-align: right;\n",
       "    }\n",
       "</style>\n",
       "<table border=\"1\" class=\"dataframe\">\n",
       "  <thead>\n",
       "    <tr style=\"text-align: right;\">\n",
       "      <th></th>\n",
       "      <th>LNR</th>\n",
       "      <th>RESPONSE</th>\n",
       "    </tr>\n",
       "  </thead>\n",
       "  <tbody>\n",
       "    <tr>\n",
       "      <th>0</th>\n",
       "      <td>1754</td>\n",
       "      <td>0.771637</td>\n",
       "    </tr>\n",
       "    <tr>\n",
       "      <th>1</th>\n",
       "      <td>1770</td>\n",
       "      <td>0.481921</td>\n",
       "    </tr>\n",
       "    <tr>\n",
       "      <th>2</th>\n",
       "      <td>1465</td>\n",
       "      <td>0.141215</td>\n",
       "    </tr>\n",
       "    <tr>\n",
       "      <th>3</th>\n",
       "      <td>1470</td>\n",
       "      <td>0.069507</td>\n",
       "    </tr>\n",
       "    <tr>\n",
       "      <th>4</th>\n",
       "      <td>1478</td>\n",
       "      <td>0.219488</td>\n",
       "    </tr>\n",
       "  </tbody>\n",
       "</table>\n",
       "</div>"
      ],
      "text/plain": [
       "    LNR  RESPONSE\n",
       "0  1754  0.771637\n",
       "1  1770  0.481921\n",
       "2  1465  0.141215\n",
       "3  1470  0.069507\n",
       "4  1478  0.219488"
      ]
     },
     "execution_count": 156,
     "metadata": {},
     "output_type": "execute_result"
    }
   ],
   "source": [
    "results = pd.DataFrame(np.vstack((mailout_test_reduced.index, test_preds)).T,\n",
    "                       columns=['LNR', 'RESPONSE'])\n",
    "results['LNR'] = results['LNR'].astype(int)\n",
    "results.head()"
   ]
  },
  {
   "cell_type": "code",
   "execution_count": 157,
   "metadata": {},
   "outputs": [],
   "source": [
    "results.to_csv(\"./submission_xgb_aug_full.csv\", index=False)"
   ]
  },
  {
   "cell_type": "code",
   "execution_count": null,
   "metadata": {},
   "outputs": [],
   "source": []
  }
 ],
 "metadata": {
  "kernelspec": {
   "display_name": "Python 3",
   "language": "python",
   "name": "python3"
  },
  "language_info": {
   "codemirror_mode": {
    "name": "ipython",
    "version": 3
   },
   "file_extension": ".py",
   "mimetype": "text/x-python",
   "name": "python",
   "nbconvert_exporter": "python",
   "pygments_lexer": "ipython3",
   "version": "3.6.3"
  }
 },
 "nbformat": 4,
 "nbformat_minor": 2
}
